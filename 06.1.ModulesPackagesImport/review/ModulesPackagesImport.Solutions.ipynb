{
 "cells": [
  {
   "cell_type": "markdown",
   "id": "47e5c221",
   "metadata": {
    "slideshow": {
     "slide_type": "slide"
    }
   },
   "source": [
    "<center>\n",
    "    <img src=\"https://upload.wikimedia.org/wikipedia/commons/a/a8/%D0%9B%D0%9E%D0%93%D0%9E_%D0%A8%D0%90%D0%94.png\" width=500px/>\n",
    "    <font>Python 2021</font><br/>\n",
    "    <br/>\n",
    "    <br/>\n",
    "    <b style=\"font-size: 2em\">Разбор задач: ModulesPackagesImport</b><br/>\n",
    "    <br/>\n",
    "    <font>Константин Чернышев</font><br/>\n",
    "</center>"
   ]
  },
  {
   "cell_type": "markdown",
   "id": "f04f5c04",
   "metadata": {
    "slideshow": {
     "slide_type": "slide"
    }
   },
   "source": [
    "### 1. basic_module  → etalon (1/7)"
   ]
  },
  {
   "cell_type": "code",
   "execution_count": null,
   "id": "01747cc7",
   "metadata": {
    "pycharm": {
     "name": "#%%\n"
    }
   },
   "outputs": [],
   "source": [
    "# setup.cfg\n",
    "[metadata]\n",
    "name = simple_pass_manager\n",
    "version = 0.0.1\n",
    "author = Konstantin Chernyshev\n",
    "author_email = kdchernyshev@gmail.com\n",
    "description = A small package with simple password manager\n",
    "classifiers =\n",
    "    Programming Language :: Python :: 3\n",
    "    Operating System :: OS Independent\n",
    "\n",
    "[options]\n",
    "package_dir =\n",
    "    = simple_pass_manager\n",
    "packages = find:\n",
    "install_requires =\n",
    "    cryptography\n",
    "python_requires = >=3.9\n",
    "\n",
    "[options.packages.find]\n",
    "where = simple_pass_manager"
   ]
  },
  {
   "cell_type": "code",
   "execution_count": null,
   "id": "d19c9ed5",
   "metadata": {
    "pycharm": {
     "name": "#%%\n"
    }
   },
   "outputs": [],
   "source": [
    "# setup.py\n",
    "import setuptools\n",
    "\n",
    "setuptools.setup()"
   ]
  },
  {
   "cell_type": "markdown",
   "id": "3c54c1b9",
   "metadata": {
    "slideshow": {
     "slide_type": "subslide"
    }
   },
   "source": [
    "`tree`\n",
    "\n",
    "```\n",
    "06.1.ModulesPackagesImport/basic_module\n",
    "├── setup.cfg\n",
    "├── setup.py\n",
    "└── simple_pass_manager\n",
    "    ├── __init__.py\n",
    "    ├── exceptions.py\n",
    "    ├── manager.py\n",
    "    └── utils\n",
    "        ├── __init__.py\n",
    "        ├── encryption.py\n",
    "        └── generation.py\n",
    "\n",
    "```"
   ]
  },
  {
   "cell_type": "markdown",
   "id": "0dbb88df",
   "metadata": {
    "slideshow": {
     "slide_type": "slide"
    }
   },
   "source": [
    "### 1. basic_module  → setup.py (2/7)\n",
    "\n",
    "Choose `setup.cfg` or `setup.py`.    \n",
    "\n",
    "Or use `setuptools.config.read_configuration`"
   ]
  },
  {
   "cell_type": "code",
   "execution_count": null,
   "id": "fef05a5e",
   "metadata": {
    "pycharm": {
     "name": "#%%\n"
    }
   },
   "outputs": [],
   "source": [
    "# setup.py\n",
    "import setuptools\n",
    "\n",
    "setuptools.setup(install_requires=[\"cryptography\"])"
   ]
  },
  {
   "cell_type": "code",
   "execution_count": null,
   "id": "140f1b9a",
   "metadata": {
    "pycharm": {
     "name": "#%%\n"
    }
   },
   "outputs": [],
   "source": [
    "# setup.py\n",
    "import setuptools\n",
    "\n",
    "setuptools.setup(package_dir={\"\": \"src\"}, packages=setuptools.find_packages(where=\"src\"),)"
   ]
  },
  {
   "cell_type": "code",
   "execution_count": null,
   "id": "2c0dcaf5",
   "metadata": {
    "pycharm": {
     "name": "#%%\n"
    }
   },
   "outputs": [],
   "source": [
    "# setup.py\n",
    "from setuptools import setup, find_packages\n",
    "\n",
    "setup(name='simple_pass_manager', packages=find_packages(),\n",
    "      install_requires='cryptography')"
   ]
  },
  {
   "cell_type": "markdown",
   "id": "66335187",
   "metadata": {
    "slideshow": {
     "slide_type": "slide"
    }
   },
   "source": [
    "### 1. basic_module  → strange setup.py (3/7)"
   ]
  },
  {
   "cell_type": "code",
   "execution_count": null,
   "id": "8c337f95",
   "metadata": {
    "pycharm": {
     "name": "#%%\n"
    }
   },
   "outputs": [],
   "source": [
    "# setup.py\n",
    "# u dont need __main__ here\n",
    "\n",
    "import setuptools\n",
    "\n",
    "if __name__ == \"__main__\":\n",
    "    setuptools.setup()  # some comment"
   ]
  },
  {
   "cell_type": "code",
   "execution_count": null,
   "id": "e51160e0",
   "metadata": {
    "pycharm": {
     "name": "#%%\n"
    },
    "slideshow": {
     "slide_type": "fragment"
    }
   },
   "outputs": [],
   "source": [
    "# setup.py\n",
    "\n",
    "from distutils.core import setup\n",
    "\n",
    "setup()"
   ]
  },
  {
   "cell_type": "markdown",
   "id": "395d6361",
   "metadata": {},
   "source": [
    "https://docs.python.org/3/library/distutils.html\n",
    "> distutils is deprecated with removal planned for Python 3.12"
   ]
  },
  {
   "cell_type": "markdown",
   "id": "29021ffd",
   "metadata": {
    "slideshow": {
     "slide_type": "slide"
    }
   },
   "source": [
    "### 1. basic_module  → version (4/7)"
   ]
  },
  {
   "cell_type": "code",
   "execution_count": null,
   "id": "1dca1f7b",
   "metadata": {},
   "outputs": [],
   "source": [
    "# setup.cfg\n",
    "\n",
    "[metadata]\n",
    "...\n",
    "version=0.1\n",
    "..."
   ]
  },
  {
   "cell_type": "markdown",
   "id": "772e241f",
   "metadata": {
    "slideshow": {
     "slide_type": "fragment"
    }
   },
   "source": [
    "Semantic Versioning 2.0.0: https://semver.org/\n",
    "\n",
    "```\n",
    "MAJOR.MINOR.PATCH\n",
    "```"
   ]
  },
  {
   "cell_type": "markdown",
   "id": "1e010055",
   "metadata": {
    "slideshow": {
     "slide_type": "subslide"
    }
   },
   "source": [
    "![image.png](https://onlinecommunityhub.nl/images/blog/2020/semver.png)"
   ]
  },
  {
   "cell_type": "markdown",
   "id": "b91ccbbe",
   "metadata": {
    "pycharm": {
     "name": "#%% md\n"
    },
    "slideshow": {
     "slide_type": "subslide"
    }
   },
   "source": [
    "`cryptography` versions  \n",
    "https://pypi.org/project/cryptography/#history\n",
    "\n",
    "* 35.0.0\n",
    "* 3.4.8\n",
    "* ...\n",
    "* 3.4.1\n",
    "* 3.4\n",
    "* 3.3.2\n",
    "* 3.3.1\n",
    "* 3.3\n",
    "* ...\n"
   ]
  },
  {
   "cell_type": "markdown",
   "id": "24b91212",
   "metadata": {
    "slideshow": {
     "font": "monospace",
     "slide_type": "slide"
    }
   },
   "source": [
    "### 1. basic_module  → install_requires:pin requirements version (5/7)\n"
   ]
  },
  {
   "cell_type": "code",
   "execution_count": null,
   "id": "9428bc5d",
   "metadata": {
    "pycharm": {
     "name": "#%%\n"
    }
   },
   "outputs": [],
   "source": [
    "# setup.cfg\n",
    "# bad\n",
    "\n",
    "[options]\n",
    "install_requires =\n",
    "    cryptography"
   ]
  },
  {
   "cell_type": "code",
   "execution_count": null,
   "id": "22014074",
   "metadata": {
    "pycharm": {
     "name": "#%%\n"
    },
    "slideshow": {
     "slide_type": "fragment"
    }
   },
   "outputs": [],
   "source": [
    "# setup.cfg\n",
    "# better\n",
    "\n",
    "[options]\n",
    "install_requires =\n",
    "    cryptography==3.4.8"
   ]
  },
  {
   "cell_type": "code",
   "execution_count": null,
   "id": "0a9151a7",
   "metadata": {
    "cell_style": "split",
    "slideshow": {
     "slide_type": "fragment"
    }
   },
   "outputs": [],
   "source": [
    "# setup.cfg\n",
    "# great\n",
    "\n",
    "[options]\n",
    "install_requires =\n",
    "    cryptography>=3.0.0,<4.0.0\n"
   ]
  },
  {
   "cell_type": "markdown",
   "id": "e34f5810",
   "metadata": {
    "slideshow": {
     "slide_type": "slide"
    }
   },
   "source": [
    "### 1. basic_module  → `__init__.py` (6/7)"
   ]
  },
  {
   "cell_type": "code",
   "execution_count": null,
   "id": "013cdb2a",
   "metadata": {},
   "outputs": [],
   "source": [
    "# simple_pass_manager/__init__.py \n",
    "from .manager import PasswordManager\n",
    "\n",
    "__all__ = (\"PasswordManager\",)  # bad: list better than tuple "
   ]
  },
  {
   "cell_type": "code",
   "execution_count": null,
   "id": "83030214",
   "metadata": {},
   "outputs": [],
   "source": [
    "# simple_pass_manager/__init__.py \n",
    "from .simple_pass_manager import PasswordManager  # bad: import from what?\n",
    "\n",
    "__all__ = ['PasswordManager']"
   ]
  },
  {
   "cell_type": "code",
   "execution_count": null,
   "id": "cf06109e",
   "metadata": {},
   "outputs": [],
   "source": [
    "# simple_pass_manager/__init__.py \n",
    "from simple_pass_manager.manager import PasswordManager  # ok\n",
    "\n",
    "__all__ = ['PasswordManager']"
   ]
  },
  {
   "cell_type": "markdown",
   "id": "eaf9381e",
   "metadata": {
    "slideshow": {
     "slide_type": "slide"
    }
   },
   "source": [
    "### 1. basic_module  → bad layout (7/7)"
   ]
  },
  {
   "cell_type": "code",
   "execution_count": null,
   "id": "6b99675a",
   "metadata": {},
   "outputs": [],
   "source": [
    "# simple_pass_manager/utils/encryption.py\n",
    "\n",
    "__all__ = [\"generate_key\", \"key_encrypt\", \"key_decrypt\", \"password_encrypt\", \"password_decrypt\"]\n",
    "\n",
    "from cryptography.fernet import Fernet\n",
    "from cryptography.hazmat.backends import default_backend\n",
    "from cryptography.hazmat.primitives import hashes\n",
    "from cryptography.hazmat.primitives.kdf.pbkdf2 import PBKDF2HMAC\n",
    "\n",
    "from base64 import urlsafe_b64encode as b64e, urlsafe_b64decode as b64d\n",
    "\n",
    "import secrets\n",
    "\n",
    "_BACKEND = default_backend()\n",
    "_ITERATIONS = 100_000\n",
    "\n",
    "# ..."
   ]
  },
  {
   "cell_type": "markdown",
   "id": "bcf4f9d2",
   "metadata": {
    "slideshow": {
     "slide_type": "slide"
    }
   },
   "source": [
    "### 2. steganography_tool:setup  → etalon (1/1)"
   ]
  },
  {
   "cell_type": "code",
   "execution_count": null,
   "id": "665641c6",
   "metadata": {
    "pycharm": {
     "name": "#%%\n"
    }
   },
   "outputs": [],
   "source": [
    "# setup.cfg\n",
    "[metadata]\n",
    "name = steganography_tool\n",
    "version = 0.0.1\n",
    "author = Konstantin Chernyshev\n",
    "author_email = kdchernyshev@gmail.com\n",
    "description = A small package for steganography staff\n",
    "classifiers =\n",
    "    Programming Language :: Python :: 3\n",
    "    Operating System :: OS Independent\n",
    "\n",
    "[options]\n",
    "packages = find:\n",
    "include_package_data=True\n",
    "setup_requires =\n",
    "    wheel\n",
    "install_requires =\n",
    "    Pillow\n",
    "    click\n",
    "python_requires = >=3.9\n",
    "\n",
    "[options.entry_points]\n",
    "console_scripts =\n",
    "    steganography-tool = steganography_tool.cli:cli\n",
    "\n",
    "[options.package_data]\n",
    "* = lenna.png"
   ]
  },
  {
   "cell_type": "code",
   "execution_count": null,
   "id": "acdbef86",
   "metadata": {
    "pycharm": {
     "name": "#%%\n"
    }
   },
   "outputs": [],
   "source": [
    "# setup.py\n",
    "import setuptools\n",
    "\n",
    "setuptools.setup()"
   ]
  },
  {
   "cell_type": "markdown",
   "id": "eff3437b",
   "metadata": {},
   "source": [
    "### 2. steganography_tool:cli  → etalon (1/7)\n"
   ]
  },
  {
   "cell_type": "code",
   "execution_count": null,
   "id": "968dc26b",
   "metadata": {
    "pycharm": {
     "name": "#%%\n"
    }
   },
   "outputs": [],
   "source": [
    "import click\n",
    "# import ...\n",
    "\n",
    "\n",
    "@click.group()\n",
    "def cli() -> None:\n",
    "    \"\"\"Base module command\"\"\"\n",
    "    pass\n",
    "\n",
    "\n",
    "@cli.command()\n",
    "@click.argument('output_filename', type=click.Path(exists=False, dir_okay=False, path_type=Path))\n",
    "@click.argument('message', type=str)\n",
    "def encode(output_filename: Path, message: str) -> None:\n",
    "    data = get_base_file()\n",
    "    data = encode_message(data, message)\n",
    "    write_file(data, output_filename)\n",
    "\n",
    "\n",
    "@cli.command()\n",
    "@click.argument('input_filename', type=click.Path(exists=True, dir_okay=False, path_type=Path))\n",
    "def decode(input_filename: Path) -> None:\n",
    "    data = read_file(input_filename)\n",
    "    message = decode_message(data)\n",
    "    print(message)"
   ]
  },
  {
   "cell_type": "markdown",
   "id": "e8f72881",
   "metadata": {},
   "source": [
    "### 2. steganography_tool:cli  → post init cli (2/7)\n"
   ]
  },
  {
   "cell_type": "code",
   "execution_count": null,
   "id": "baca58e7",
   "metadata": {
    "pycharm": {
     "name": "#%%\n"
    }
   },
   "outputs": [],
   "source": [
    "import click\n",
    "\n",
    "\n",
    "@click.group()\n",
    "def cli() -> None:\n",
    "    pass\n",
    "\n",
    "\n",
    "@click.command()\n",
    "@click.argument('path')\n",
    "@click.argument('message')\n",
    "def encode(path: str, message: str) -> None:\n",
    "    # ...\n",
    "    \n",
    "@click.command()\n",
    "@click.argument('path')\n",
    "def decode(path: str) -> None:\n",
    "    # ...\n",
    "\n",
    "\n",
    "# useless here (but can be useful with a large cli)\n",
    "cli.add_command(encode)\n",
    "cli.add_command(decode) \n"
   ]
  },
  {
   "cell_type": "markdown",
   "id": "fcc9ef86",
   "metadata": {
    "slideshow": {
     "slide_type": "slide"
    }
   },
   "source": [
    "### 2. steganography_tool:cli  → bad docstring style (3/7)\n"
   ]
  },
  {
   "cell_type": "code",
   "execution_count": null,
   "id": "3f2d3ebb",
   "metadata": {
    "pycharm": {
     "name": "#%%\n"
    }
   },
   "outputs": [],
   "source": [
    "@cli.command()\n",
    "@click.argument('OUTPUT_FILENAME', type=str)\n",
    "@click.argument('SECRET_MESSAGE', type=str)\n",
    "def encode(output_filename: str, secret_message: str) -> None:\n",
    "    '''Cкрывает сообщение в lenna.png и сохраняет в файл.'''\n",
    "    write_file(\n",
    "        encode_message(get_base_file(), secret_message),\n",
    "        output_filename\n",
    "    )\n"
   ]
  },
  {
   "cell_type": "markdown",
   "id": "8271818f",
   "metadata": {
    "slideshow": {
     "slide_type": "slide"
    }
   },
   "source": [
    "### 2. steganography_tool:cli  → super-puper scope (4/7)\n"
   ]
  },
  {
   "cell_type": "code",
   "execution_count": null,
   "id": "717157ac",
   "metadata": {
    "pycharm": {
     "name": "#%%\n"
    }
   },
   "outputs": [],
   "source": [
    "import click\n",
    "# import ...\n",
    "\n",
    "\n",
    "@click.group()\n",
    "def cli() -> None:\n",
    "    pass\n",
    "\n",
    "\n",
    "# ...\n",
    "\n",
    "\n",
    "def main() -> None:\n",
    "    cli()\n",
    "\n",
    "\n",
    "if __name__ == \"__main__\":\n",
    "    main()"
   ]
  },
  {
   "cell_type": "markdown",
   "id": "5a787e42",
   "metadata": {
    "slideshow": {
     "slide_type": "slide"
    }
   },
   "source": [
    "### 2. steganography_tool:cli  → complicate setup (5/7)\n"
   ]
  },
  {
   "cell_type": "code",
   "execution_count": null,
   "id": "60a976e9",
   "metadata": {},
   "outputs": [],
   "source": [
    "import click\n",
    "# import ...\n",
    "\n",
    "@click.group()\n",
    "def encode_() -> None:\n",
    "    pass\n",
    "\n",
    "\n",
    "@click.command()\n",
    "@click.argument('output_filename')\n",
    "@click.argument('message', nargs=1)\n",
    "def encode(output_filename: str, message: str) -> None:\n",
    "    # ...\n",
    "\n",
    "\n",
    "@click.group()\n",
    "def decode_() -> None:\n",
    "    pass\n",
    "\n",
    "\n",
    "@click.command()\n",
    "@click.argument('input_filename')\n",
    "def decode(input_filename: str) -> None:\n",
    "    # ...\n",
    "\n",
    "\n",
    "encode_.add_command(encode)\n",
    "decode_.add_command(decode)\n",
    "\n",
    "main = click.CommandCollection(sources=[encode_, decode_])\n",
    "\n",
    "if __name__ == '__main__':\n",
    "    main()"
   ]
  },
  {
   "cell_type": "markdown",
   "id": "3658b069",
   "metadata": {
    "slideshow": {
     "slide_type": "slide"
    }
   },
   "source": [
    "### 2. steganography_tool:cli  → click WTF (6/7)"
   ]
  },
  {
   "cell_type": "code",
   "execution_count": null,
   "id": "201d736d",
   "metadata": {
    "cell_style": "split"
   },
   "outputs": [],
   "source": [
    "import click\n",
    "# import ...\n",
    "\n",
    "\n",
    "@click.command(help='encode - to encode\\n\\ndecode - to decode')\n",
    "@click.argument(\"command\", required=1)\n",
    "@click.argument(\"container_name\", required=1)\n",
    "@click.argument(\"message_name\", required=0)\n",
    "def cli(container_name: str, message_name: str, command: typing.Optional[str] = None) -> int:\n",
    "    \"\"\"steganography-tool\"\"\"\n",
    "    if command == 'encode':\n",
    "        np_frame = get_base_file()\n",
    "        out_frame = encode_message(np_frame, message_name)\n",
    "        write_file(out_frame, container_name)\n",
    "    elif command == 'decode':\n",
    "        np_frame = read_file(container_name)\n",
    "        msg = decode_message(np_frame)\n",
    "        print(msg)\n",
    "    return 0\n"
   ]
  },
  {
   "cell_type": "markdown",
   "id": "f093e295",
   "metadata": {
    "slideshow": {
     "slide_type": "slide"
    }
   },
   "source": [
    "### 2. steganography_tool:cli  → not click, but typer - ok (7/7)"
   ]
  },
  {
   "cell_type": "code",
   "execution_count": null,
   "id": "61d9c873",
   "metadata": {},
   "outputs": [],
   "source": [
    "import typer\n",
    "# import ...\n",
    "\n",
    "\n",
    "app = typer.Typer()\n",
    "\n",
    "\n",
    "@app.command(help='encodes message in [SECRET-MESSAGE] and saves it in [OUTPUT-PATH] file')\n",
    "def encode(output_path: str, secret_message: str) -> None:\n",
    "    base_file_data = utils.get_base_file()\n",
    "    data = encode_message(base_file_data, secret_message)\n",
    "    utils.write_file(data, output_path)\n",
    "\n",
    "\n",
    "@app.command(help='decode file from [INPUT-PATH] and print secret message')\n",
    "def decode(input_path: str) -> None:\n",
    "    inp_file_data = utils.read_file(input_path)\n",
    "    typer.echo(decode_message(inp_file_data))"
   ]
  }
 ],
 "metadata": {
  "celltoolbar": "Slideshow",
  "kernelspec": {
   "display_name": "Python 3 (ipykernel)",
   "language": "python",
   "name": "python3"
  },
  "language_info": {
   "codemirror_mode": {
    "name": "ipython",
    "version": 3
   },
   "file_extension": ".py",
   "mimetype": "text/x-python",
   "name": "python",
   "nbconvert_exporter": "python",
   "pygments_lexer": "ipython3",
   "version": "3.9.12"
  },
  "rise": {
   "enable_chalkboard": true,
   "footer": "<p style=\"margin: 5px; color: #a0a0a0\">YSDA Python Course</p>",
   "scroll": true,
   "start_slideshow_at": "selected",
   "theme": "serif"
  }
 },
 "nbformat": 4,
 "nbformat_minor": 5
}
