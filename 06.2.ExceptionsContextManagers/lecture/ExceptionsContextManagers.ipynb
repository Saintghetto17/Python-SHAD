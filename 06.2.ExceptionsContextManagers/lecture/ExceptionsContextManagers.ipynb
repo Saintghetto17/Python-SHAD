{
 "cells": [
  {
   "cell_type": "markdown",
   "metadata": {
    "pycharm": {
     "name": "#%% md\n"
    },
    "slideshow": {
     "slide_type": "slide"
    }
   },
   "source": [
    "<center>\n",
    "    <img src=\"https://upload.wikimedia.org/wikipedia/commons/a/a8/%D0%9B%D0%9E%D0%93%D0%9E_%D0%A8%D0%90%D0%94.png\" width=500px/>\n",
    "    <font>Python 2023</font><br/>\n",
    "    <br/>\n",
    "    <br/>\n",
    "    <b style=\"font-size: 2em\">Исключения. Менеджеры контекста</b><br/>\n",
    "    <br/>\n",
    "    <font>Сапожников Денис</font><br/>\n",
    "</center>"
   ]
  },
  {
   "cell_type": "markdown",
   "metadata": {
    "pycharm": {
     "name": "#%% md\n"
    },
    "slideshow": {
     "slide_type": "slide"
    }
   },
   "source": [
    "# Исключения"
   ]
  },
  {
   "cell_type": "markdown",
   "metadata": {
    "pycharm": {
     "name": "#%% md\n"
    },
    "slideshow": {
     "slide_type": "slide"
    }
   },
   "source": [
    "Часто в программах что-то идёт не так. Если ничего не предпринимать, они ломаются."
   ]
  },
  {
   "cell_type": "code",
   "execution_count": 1,
   "metadata": {
    "ExecuteTime": {
     "end_time": "2021-10-11T16:24:54.351006Z",
     "start_time": "2021-10-11T16:24:54.296532Z"
    },
    "pycharm": {
     "name": "#%%\n"
    },
    "scrolled": false
   },
   "outputs": [
    {
     "name": "stdout",
     "output_type": "stream",
     "text": [
      "{'banner_id': 1, 'shows': 10, 'clicks': 1}\n",
      "{'banner_id': 2, 'shows': 15, 'clicks': 2}\n"
     ]
    },
    {
     "ename": "ValueError",
     "evalue": "invalid literal for int() with base 10: ''",
     "output_type": "error",
     "traceback": [
      "\u001b[0;31m---------------------------------------------------------------------------\u001b[0m",
      "\u001b[0;31mValueError\u001b[0m                                Traceback (most recent call last)",
      "Cell \u001b[0;32mIn[1], line 13\u001b[0m\n\u001b[1;32m      6\u001b[0m log \u001b[38;5;241m=\u001b[39m [\n\u001b[1;32m      7\u001b[0m     \u001b[38;5;124m'\u001b[39m\u001b[38;5;124mbanner_id=1\u001b[39m\u001b[38;5;130;01m\\t\u001b[39;00m\u001b[38;5;124mshows=10\u001b[39m\u001b[38;5;130;01m\\t\u001b[39;00m\u001b[38;5;124mclicks=1\u001b[39m\u001b[38;5;124m'\u001b[39m,\n\u001b[1;32m      8\u001b[0m     \u001b[38;5;124m'\u001b[39m\u001b[38;5;124mbanner_id=2\u001b[39m\u001b[38;5;130;01m\\t\u001b[39;00m\u001b[38;5;124mshows=15\u001b[39m\u001b[38;5;130;01m\\t\u001b[39;00m\u001b[38;5;124mclicks=2\u001b[39m\u001b[38;5;124m'\u001b[39m,\n\u001b[1;32m      9\u001b[0m     \u001b[38;5;124m'\u001b[39m\u001b[38;5;124mbanner_id=3\u001b[39m\u001b[38;5;130;01m\\t\u001b[39;00m\u001b[38;5;124mshows=\u001b[39m\u001b[38;5;130;01m\\t\u001b[39;00m\u001b[38;5;124mclicks=1\u001b[39m\u001b[38;5;124m'\u001b[39m,  \u001b[38;5;66;03m# empty shows\u001b[39;00m\n\u001b[1;32m     10\u001b[0m ]\n\u001b[1;32m     12\u001b[0m \u001b[38;5;28;01mfor\u001b[39;00m row \u001b[38;5;129;01min\u001b[39;00m log:\n\u001b[0;32m---> 13\u001b[0m     \u001b[38;5;28mprint\u001b[39m(\u001b[43mparse_tskv\u001b[49m\u001b[43m(\u001b[49m\u001b[43mrow\u001b[49m\u001b[43m)\u001b[49m)\n",
      "Cell \u001b[0;32mIn[1], line 4\u001b[0m, in \u001b[0;36mparse_tskv\u001b[0;34m(tskv)\u001b[0m\n\u001b[1;32m      2\u001b[0m \u001b[38;5;250m\u001b[39m\u001b[38;5;124;03m\"\"\"Parse tskv string\"\"\"\u001b[39;00m\n\u001b[1;32m      3\u001b[0m kvpairs \u001b[38;5;241m=\u001b[39m (keyvalue\u001b[38;5;241m.\u001b[39msplit(\u001b[38;5;124m'\u001b[39m\u001b[38;5;124m=\u001b[39m\u001b[38;5;124m'\u001b[39m) \u001b[38;5;28;01mfor\u001b[39;00m keyvalue \u001b[38;5;129;01min\u001b[39;00m tskv\u001b[38;5;241m.\u001b[39mstrip()\u001b[38;5;241m.\u001b[39msplit(\u001b[38;5;124m'\u001b[39m\u001b[38;5;130;01m\\t\u001b[39;00m\u001b[38;5;124m'\u001b[39m))\n\u001b[0;32m----> 4\u001b[0m \u001b[38;5;28;01mreturn\u001b[39;00m \u001b[43m{\u001b[49m\u001b[43mk\u001b[49m\u001b[43m:\u001b[49m\u001b[43m \u001b[49m\u001b[38;5;28;43mint\u001b[39;49m\u001b[43m(\u001b[49m\u001b[43mv\u001b[49m\u001b[43m)\u001b[49m\u001b[43m \u001b[49m\u001b[38;5;28;43;01mfor\u001b[39;49;00m\u001b[43m \u001b[49m\u001b[43mk\u001b[49m\u001b[43m,\u001b[49m\u001b[43m \u001b[49m\u001b[43mv\u001b[49m\u001b[43m \u001b[49m\u001b[38;5;129;43;01min\u001b[39;49;00m\u001b[43m \u001b[49m\u001b[43mkvpairs\u001b[49m\u001b[43m}\u001b[49m\n",
      "Cell \u001b[0;32mIn[1], line 4\u001b[0m, in \u001b[0;36m<dictcomp>\u001b[0;34m(.0)\u001b[0m\n\u001b[1;32m      2\u001b[0m \u001b[38;5;250m\u001b[39m\u001b[38;5;124;03m\"\"\"Parse tskv string\"\"\"\u001b[39;00m\n\u001b[1;32m      3\u001b[0m kvpairs \u001b[38;5;241m=\u001b[39m (keyvalue\u001b[38;5;241m.\u001b[39msplit(\u001b[38;5;124m'\u001b[39m\u001b[38;5;124m=\u001b[39m\u001b[38;5;124m'\u001b[39m) \u001b[38;5;28;01mfor\u001b[39;00m keyvalue \u001b[38;5;129;01min\u001b[39;00m tskv\u001b[38;5;241m.\u001b[39mstrip()\u001b[38;5;241m.\u001b[39msplit(\u001b[38;5;124m'\u001b[39m\u001b[38;5;130;01m\\t\u001b[39;00m\u001b[38;5;124m'\u001b[39m))\n\u001b[0;32m----> 4\u001b[0m \u001b[38;5;28;01mreturn\u001b[39;00m {k: \u001b[38;5;28;43mint\u001b[39;49m\u001b[43m(\u001b[49m\u001b[43mv\u001b[49m\u001b[43m)\u001b[49m \u001b[38;5;28;01mfor\u001b[39;00m k, v \u001b[38;5;129;01min\u001b[39;00m kvpairs}\n",
      "\u001b[0;31mValueError\u001b[0m: invalid literal for int() with base 10: ''"
     ]
    }
   ],
   "source": [
    "def parse_tskv(tskv: str) -> dict[str, int]:\n",
    "    \"\"\"Parse tskv string\"\"\"\n",
    "    kvpairs = (keyvalue.split('=') for keyvalue in tskv.strip().split('\\t'))\n",
    "    return {k: int(v) for k, v in kvpairs}\n",
    "\n",
    "log = [\n",
    "    'banner_id=1\\tshows=10\\tclicks=1',\n",
    "    'banner_id=2\\tshows=15\\tclicks=2',\n",
    "    'banner_id=3\\tshows=\\tclicks=1',  # empty shows\n",
    "]\n",
    "\n",
    "for row in log:\n",
    "    print(parse_tskv(row))"
   ]
  },
  {
   "cell_type": "markdown",
   "metadata": {
    "pycharm": {
     "name": "#%% md\n"
    },
    "slideshow": {
     "slide_type": "slide"
    }
   },
   "source": [
    "Какие средства для обработки ошибок существуют?"
   ]
  },
  {
   "cell_type": "markdown",
   "metadata": {
    "pycharm": {
     "name": "#%% md\n"
    }
   },
   "source": [
    "- Специальные возвращаемые значения (Golang)\n",
    "```go\n",
    "i, err := strconv.Atoi(\"42\")\n",
    "if err != nil {\n",
    "    fmt.Printf(\"couldn't convert number: %v\\n\", err)\n",
    "    return\n",
    "}\n",
    "fmt.Println(\"Converted integer:\", i)\n",
    "```"
   ]
  },
  {
   "cell_type": "markdown",
   "metadata": {
    "pycharm": {
     "name": "#%% md\n"
    }
   },
   "source": [
    "- Исключения (Python)"
   ]
  },
  {
   "cell_type": "code",
   "execution_count": 2,
   "metadata": {
    "pycharm": {
     "name": "#%%\n"
    }
   },
   "outputs": [
    {
     "ename": "ValueError",
     "evalue": "invalid literal for int() with base 10: 'abc'",
     "output_type": "error",
     "traceback": [
      "\u001b[0;31m---------------------------------------------------------------------------\u001b[0m",
      "\u001b[0;31mValueError\u001b[0m                                Traceback (most recent call last)",
      "Cell \u001b[0;32mIn[2], line 1\u001b[0m\n\u001b[0;32m----> 1\u001b[0m \u001b[38;5;28;43mint\u001b[39;49m\u001b[43m(\u001b[49m\u001b[38;5;124;43m'\u001b[39;49m\u001b[38;5;124;43mabc\u001b[39;49m\u001b[38;5;124;43m'\u001b[39;49m\u001b[43m)\u001b[49m\n",
      "\u001b[0;31mValueError\u001b[0m: invalid literal for int() with base 10: 'abc'"
     ]
    }
   ],
   "source": [
    "int('abc')"
   ]
  },
  {
   "cell_type": "markdown",
   "metadata": {
    "pycharm": {
     "name": "#%% md\n"
    },
    "slideshow": {
     "slide_type": "slide"
    }
   },
   "source": [
    "- Исключения — специальный механизм языка для работы с ошибками.\n",
    "- Прерывают нормальный ход исполнения программы.\n",
    "- Сообщают о возникшей исключительной ситуации.\n",
    "- Дают возможность обработать ошибку и восстановить работу программы."
   ]
  },
  {
   "cell_type": "markdown",
   "metadata": {
    "pycharm": {
     "name": "#%% md\n"
    },
    "slideshow": {
     "slide_type": "slide"
    }
   },
   "source": [
    "Примеры исключений"
   ]
  },
  {
   "cell_type": "code",
   "execution_count": 3,
   "metadata": {
    "pycharm": {
     "name": "#%%\n"
    }
   },
   "outputs": [
    {
     "ename": "MemoryError",
     "evalue": "",
     "output_type": "error",
     "traceback": [
      "\u001b[0;31m---------------------------------------------------------------------------\u001b[0m",
      "\u001b[0;31mMemoryError\u001b[0m                               Traceback (most recent call last)",
      "Cell \u001b[0;32mIn[3], line 1\u001b[0m\n\u001b[0;32m----> 1\u001b[0m \u001b[43m[\u001b[49m\u001b[38;5;241;43m0\u001b[39;49m\u001b[43m]\u001b[49m\u001b[43m \u001b[49m\u001b[38;5;241;43m*\u001b[39;49m\u001b[43m \u001b[49m\u001b[38;5;28;43mint\u001b[39;49m\u001b[43m(\u001b[49m\u001b[38;5;241;43m1e16\u001b[39;49m\u001b[43m)\u001b[49m\n",
      "\u001b[0;31mMemoryError\u001b[0m: "
     ]
    }
   ],
   "source": [
    "[0] * int(1e16)"
   ]
  },
  {
   "cell_type": "markdown",
   "metadata": {
    "pycharm": {
     "name": "#%% md\n"
    },
    "slideshow": {
     "slide_type": "slide"
    }
   },
   "source": [
    "Примеры исключений"
   ]
  },
  {
   "cell_type": "code",
   "execution_count": 4,
   "metadata": {
    "pycharm": {
     "name": "#%%\n"
    }
   },
   "outputs": [
    {
     "ename": "FileNotFoundError",
     "evalue": "[Errno 2] No such file or directory: 'nonexistent.file'",
     "output_type": "error",
     "traceback": [
      "\u001b[0;31m---------------------------------------------------------------------------\u001b[0m",
      "\u001b[0;31mFileNotFoundError\u001b[0m                         Traceback (most recent call last)",
      "Cell \u001b[0;32mIn[4], line 1\u001b[0m\n\u001b[0;32m----> 1\u001b[0m \u001b[38;5;28;43mopen\u001b[39;49m\u001b[43m(\u001b[49m\u001b[38;5;124;43m'\u001b[39;49m\u001b[38;5;124;43mnonexistent.file\u001b[39;49m\u001b[38;5;124;43m'\u001b[39;49m\u001b[43m)\u001b[49m\n",
      "File \u001b[0;32m~/.local/lib/python3.11/site-packages/IPython/core/interactiveshell.py:286\u001b[0m, in \u001b[0;36m_modified_open\u001b[0;34m(file, *args, **kwargs)\u001b[0m\n\u001b[1;32m    279\u001b[0m \u001b[38;5;28;01mif\u001b[39;00m file \u001b[38;5;129;01min\u001b[39;00m {\u001b[38;5;241m0\u001b[39m, \u001b[38;5;241m1\u001b[39m, \u001b[38;5;241m2\u001b[39m}:\n\u001b[1;32m    280\u001b[0m     \u001b[38;5;28;01mraise\u001b[39;00m \u001b[38;5;167;01mValueError\u001b[39;00m(\n\u001b[1;32m    281\u001b[0m         \u001b[38;5;124mf\u001b[39m\u001b[38;5;124m\"\u001b[39m\u001b[38;5;124mIPython won\u001b[39m\u001b[38;5;124m'\u001b[39m\u001b[38;5;124mt let you open fd=\u001b[39m\u001b[38;5;132;01m{\u001b[39;00mfile\u001b[38;5;132;01m}\u001b[39;00m\u001b[38;5;124m by default \u001b[39m\u001b[38;5;124m\"\u001b[39m\n\u001b[1;32m    282\u001b[0m         \u001b[38;5;124m\"\u001b[39m\u001b[38;5;124mas it is likely to crash IPython. If you know what you are doing, \u001b[39m\u001b[38;5;124m\"\u001b[39m\n\u001b[1;32m    283\u001b[0m         \u001b[38;5;124m\"\u001b[39m\u001b[38;5;124myou can use builtins\u001b[39m\u001b[38;5;124m'\u001b[39m\u001b[38;5;124m open.\u001b[39m\u001b[38;5;124m\"\u001b[39m\n\u001b[1;32m    284\u001b[0m     )\n\u001b[0;32m--> 286\u001b[0m \u001b[38;5;28;01mreturn\u001b[39;00m \u001b[43mio_open\u001b[49m\u001b[43m(\u001b[49m\u001b[43mfile\u001b[49m\u001b[43m,\u001b[49m\u001b[43m \u001b[49m\u001b[38;5;241;43m*\u001b[39;49m\u001b[43margs\u001b[49m\u001b[43m,\u001b[49m\u001b[43m \u001b[49m\u001b[38;5;241;43m*\u001b[39;49m\u001b[38;5;241;43m*\u001b[39;49m\u001b[43mkwargs\u001b[49m\u001b[43m)\u001b[49m\n",
      "\u001b[0;31mFileNotFoundError\u001b[0m: [Errno 2] No such file or directory: 'nonexistent.file'"
     ]
    }
   ],
   "source": [
    "open('nonexistent.file')"
   ]
  },
  {
   "cell_type": "markdown",
   "metadata": {
    "pycharm": {
     "name": "#%% md\n"
    },
    "slideshow": {
     "slide_type": "slide"
    }
   },
   "source": [
    "Примеры исключений"
   ]
  },
  {
   "cell_type": "code",
   "execution_count": 7,
   "metadata": {
    "pycharm": {
     "name": "#%%\n"
    }
   },
   "outputs": [
    {
     "ename": "TypeError",
     "evalue": "can only concatenate list (not \"int\") to list",
     "output_type": "error",
     "traceback": [
      "\u001b[0;31m---------------------------------------------------------------------------\u001b[0m",
      "\u001b[0;31mTypeError\u001b[0m                                 Traceback (most recent call last)",
      "Cell \u001b[0;32mIn[7], line 1\u001b[0m\n\u001b[0;32m----> 1\u001b[0m \u001b[43m[\u001b[49m\u001b[38;5;241;43m1\u001b[39;49m\u001b[43m,\u001b[49m\u001b[43m \u001b[49m\u001b[38;5;241;43m2\u001b[39;49m\u001b[43m,\u001b[49m\u001b[43m \u001b[49m\u001b[38;5;241;43m3\u001b[39;49m\u001b[43m]\u001b[49m\u001b[43m \u001b[49m\u001b[38;5;241;43m+\u001b[39;49m\u001b[43m \u001b[49m\u001b[38;5;241;43m4\u001b[39;49m\n",
      "\u001b[0;31mTypeError\u001b[0m: can only concatenate list (not \"int\") to list"
     ]
    }
   ],
   "source": [
    "[1, 2, 3] + 4"
   ]
  },
  {
   "cell_type": "markdown",
   "metadata": {
    "pycharm": {
     "name": "#%% md\n"
    },
    "slideshow": {
     "slide_type": "slide"
    }
   },
   "source": [
    "\n",
    "Примеры исключений"
   ]
  },
  {
   "cell_type": "code",
   "execution_count": 8,
   "metadata": {
    "pycharm": {
     "name": "#%%\n"
    }
   },
   "outputs": [
    {
     "ename": "SyntaxError",
     "evalue": "unmatched ')' (<string>, line 1)",
     "output_type": "error",
     "traceback": [
      "Traceback \u001b[0;36m(most recent call last)\u001b[0m:\n",
      "\u001b[0m  File \u001b[1;32m~/.local/lib/python3.11/site-packages/IPython/core/interactiveshell.py:3526\u001b[0m in \u001b[1;35mrun_code\u001b[0m\n    exec(code_obj, self.user_global_ns, self.user_ns)\u001b[0m\n",
      "\u001b[0;36m  Cell \u001b[0;32mIn[8], line 1\u001b[0;36m\n\u001b[0;31m    compile('a = 2 * 5 + 3)', '', 'exec')\u001b[0;36m\n",
      "\u001b[0;36m  File \u001b[0;32m<string>:1\u001b[0;36m\u001b[0m\n\u001b[0;31m    a = 2 * 5 + 3)\u001b[0m\n\u001b[0m                 ^\u001b[0m\n\u001b[0;31mSyntaxError\u001b[0m\u001b[0;31m:\u001b[0m unmatched ')'\n"
     ]
    }
   ],
   "source": [
    "compile('a = 2 * 5 + 3)', '', 'exec')"
   ]
  },
  {
   "cell_type": "markdown",
   "metadata": {
    "pycharm": {
     "name": "#%% md\n"
    },
    "slideshow": {
     "slide_type": "slide"
    }
   },
   "source": [
    "Иерархия встроенных исключений: https://docs.python.org/3/library/exceptions.html#exception-hierarchy"
   ]
  },
  {
   "cell_type": "markdown",
   "metadata": {
    "pycharm": {
     "name": "#%% md\n"
    },
    "slideshow": {
     "slide_type": "-"
    }
   },
   "source": [
    "```\n",
    "BaseException\n",
    " ├── BaseExceptionGroup\n",
    " ├── GeneratorExit\n",
    " ├── KeyboardInterrupt\n",
    " ├── SystemExit\n",
    " └── Exception\n",
    "      ├── ArithmeticError\n",
    "      │    ├── FloatingPointError\n",
    "      │    ├── OverflowError\n",
    "      │    └── ZeroDivisionError\n",
    "      ├── AssertionError\n",
    "      ├── AttributeError\n",
    "      ├── BufferError\n",
    "      ├── EOFError\n",
    "      ├── ExceptionGroup [BaseExceptionGroup]\n",
    "      ├── ImportError\n",
    "      │    └── ModuleNotFoundError\n",
    "      ├── LookupError\n",
    "      │    ├── IndexError\n",
    "      │    └── KeyError\n",
    "      ├── MemoryError\n",
    "      ├── NameError\n",
    "      │    └── UnboundLocalError\n",
    "      ├── OSError\n",
    "      │    ├── BlockingIOError\n",
    "      │    ├── ChildProcessError\n",
    "      │    ├── ConnectionError\n",
    "      │    │    ├── BrokenPipeError\n",
    "      │    │    ├── ConnectionAbortedError\n",
    "      │    │    ├── ConnectionRefusedError\n",
    "      │    │    └── ConnectionResetError\n",
    "      │    ├── FileExistsError\n",
    "      │    ├── FileNotFoundError\n",
    "      │    ├── InterruptedError\n",
    "      │    ├── IsADirectoryError\n",
    "      │    ├── NotADirectoryError\n",
    "      │    ├── PermissionError\n",
    "      │    ├── ProcessLookupError\n",
    "      │    └── TimeoutError\n",
    "      ├── ReferenceError\n",
    "      ├── RuntimeError\n",
    "      │    ├── NotImplementedError\n",
    "      │    └── RecursionError\n",
    "      ├── StopAsyncIteration\n",
    "      ├── StopIteration\n",
    "      ├── SyntaxError\n",
    "      │    └── IndentationError\n",
    "      │         └── TabError\n",
    "      ├── SystemError\n",
    "      ├── TypeError\n",
    "      ├── ValueError\n",
    "      │    └── UnicodeError\n",
    "      │         ├── UnicodeDecodeError\n",
    "      │         ├── UnicodeEncodeError\n",
    "      │         └── UnicodeTranslateError\n",
    "      └── Warning\n",
    "           ├── BytesWarning\n",
    "           ├── DeprecationWarning\n",
    "           ├── EncodingWarning\n",
    "           ├── FutureWarning\n",
    "           ├── ImportWarning\n",
    "           ├── PendingDeprecationWarning\n",
    "           ├── ResourceWarning\n",
    "           ├── RuntimeWarning\n",
    "           ├── SyntaxWarning\n",
    "           ├── UnicodeWarning\n",
    "           └── UserWarning\n",
    "```"
   ]
  },
  {
   "cell_type": "markdown",
   "metadata": {
    "pycharm": {
     "name": "#%% md\n"
    },
    "slideshow": {
     "slide_type": "slide"
    }
   },
   "source": [
    "Обработка исключений: `try...except`"
   ]
  },
  {
   "cell_type": "code",
   "execution_count": 9,
   "metadata": {
    "pycharm": {
     "name": "#%%\n"
    }
   },
   "outputs": [
    {
     "name": "stdout",
     "output_type": "stream",
     "text": [
      "File 'nonexistent.file' does not exist\n"
     ]
    }
   ],
   "source": [
    "filename = 'nonexistent.file'\n",
    "\n",
    "try:\n",
    "    fd = open(filename, 'r')\n",
    "except FileNotFoundError:  # catch exceptions which satisfy isinstance(exc, FileNotFoundError)\n",
    "    print(f'File {filename!r} does not exist')"
   ]
  },
  {
   "cell_type": "markdown",
   "metadata": {
    "pycharm": {
     "name": "#%% md\n"
    },
    "slideshow": {
     "slide_type": "slide"
    }
   },
   "source": [
    "Обработка исключений: `try...except...except`"
   ]
  },
  {
   "cell_type": "code",
   "execution_count": 15,
   "metadata": {
    "pycharm": {
     "name": "#%%\n"
    }
   },
   "outputs": [
    {
     "name": "stdout",
     "output_type": "stream",
     "text": [
      "File 'nonexistent.file' does not exist\n"
     ]
    }
   ],
   "source": [
    "filename = 'nonexistent.file'\n",
    "\n",
    "try:\n",
    "    fd = open(filename, 'r')\n",
    "except FileNotFoundError:\n",
    "    print(f'File {filename!r} does not exist')\n",
    "except (TypeError, ValueError, MemoryError) as e:\n",
    "    print('Just to demonstrate a tuple of exceptions')\n",
    "except Exception as e:  # the first matching except clause is triggered\n",
    "\n",
    "    print(f'Exception occured while reading file {filename!r}: {e!r}')"
   ]
  },
  {
   "cell_type": "markdown",
   "metadata": {
    "pycharm": {
     "name": "#%% md\n"
    },
    "slideshow": {
     "slide_type": "slide"
    }
   },
   "source": [
    "Обработка исключений: `try...except...else...finally`"
   ]
  },
  {
   "cell_type": "code",
   "execution_count": 18,
   "metadata": {
    "pycharm": {
     "name": "#%%\n"
    }
   },
   "outputs": [
    {
     "name": "stdout",
     "output_type": "stream",
     "text": [
      "Print this no matter what\n"
     ]
    },
    {
     "ename": "ZeroDivisionError",
     "evalue": "division by zero",
     "output_type": "error",
     "traceback": [
      "\u001b[0;31m---------------------------------------------------------------------------\u001b[0m",
      "\u001b[0;31mZeroDivisionError\u001b[0m                         Traceback (most recent call last)",
      "Cell \u001b[0;32mIn[18], line 4\u001b[0m\n\u001b[1;32m      2\u001b[0m \u001b[38;5;28;01mtry\u001b[39;00m:\n\u001b[1;32m      3\u001b[0m     f \u001b[38;5;241m=\u001b[39m \u001b[38;5;28mopen\u001b[39m(\u001b[38;5;124m\"\u001b[39m\u001b[38;5;124mfilename.txt\u001b[39m\u001b[38;5;124m\"\u001b[39m, \u001b[38;5;124m'\u001b[39m\u001b[38;5;124mr\u001b[39m\u001b[38;5;124m'\u001b[39m) \u001b[38;5;66;03m# something dangerous\u001b[39;00m\n\u001b[0;32m----> 4\u001b[0m     \u001b[38;5;241;43m1\u001b[39;49m\u001b[43m \u001b[49m\u001b[38;5;241;43m/\u001b[39;49m\u001b[43m \u001b[49m\u001b[38;5;241;43m0\u001b[39;49m\n\u001b[1;32m      5\u001b[0m \u001b[38;5;28;01mexcept\u001b[39;00m \u001b[38;5;167;01mValueError\u001b[39;00m \u001b[38;5;28;01mas\u001b[39;00m e:  \u001b[38;5;66;03m# scope failure\u001b[39;00m\n\u001b[1;32m      6\u001b[0m     \u001b[38;5;28mprint\u001b[39m(\u001b[38;5;124mf\u001b[39m\u001b[38;5;124m'\u001b[39m\u001b[38;5;124mSomething bad happened: \u001b[39m\u001b[38;5;132;01m{\u001b[39;00me\u001b[38;5;132;01m!r}\u001b[39;00m\u001b[38;5;124m'\u001b[39m)\n",
      "\u001b[0;31mZeroDivisionError\u001b[0m: division by zero"
     ]
    }
   ],
   "source": [
    "f = None\n",
    "try:\n",
    "    f = open(\"filename.txt\", 'r') # something dangerous\n",
    "    1 / 0\n",
    "except ValueError as e:  # scope failure\n",
    "    print(f'Something bad happened: {e!r}')\n",
    "else:  # scope success\n",
    "    print('Nothing bad happened')\n",
    "finally:  # scope exit\n",
    "    if f is not None:\n",
    "        f.close()\n",
    "    print('Print this no matter what')"
   ]
  },
  {
   "cell_type": "markdown",
   "metadata": {
    "pycharm": {
     "name": "#%% md\n"
    },
    "slideshow": {
     "slide_type": "slide"
    }
   },
   "source": [
    "Стратегии обработки ошибок: **Look Before You Leap**"
   ]
  },
  {
   "cell_type": "code",
   "execution_count": null,
   "metadata": {
    "pycharm": {
     "name": "#%%\n"
    }
   },
   "outputs": [],
   "source": [
    "def ctr(shows, clicks):\n",
    "    \"\"\"Returns banner click-through rate\"\"\"\n",
    "    if shows == 0:\n",
    "        return 0\n",
    "    return clicks / shows"
   ]
  },
  {
   "cell_type": "markdown",
   "metadata": {
    "pycharm": {
     "name": "#%% md\n"
    },
    "slideshow": {
     "slide_type": "slide"
    }
   },
   "source": [
    "Стратегии обработки ошибок: **It's easier to ask for forgiveness than permission**"
   ]
  },
  {
   "cell_type": "code",
   "execution_count": null,
   "metadata": {
    "pycharm": {
     "name": "#%%\n"
    }
   },
   "outputs": [],
   "source": [
    "def ctr(shows, clicks):\n",
    "    \"\"\"Returns banner click-through rate\"\"\"\n",
    "    try:\n",
    "        return clicks / shows\n",
    "    except ZeroDivisionError:\n",
    "        return 0"
   ]
  },
  {
   "cell_type": "markdown",
   "metadata": {
    "pycharm": {
     "name": "#%% md\n"
    },
    "slideshow": {
     "slide_type": "slide"
    }
   },
   "source": [
    "<div class=\"alert alert-danger\">\n",
    "<b>Антипаттерн: </b> Ловить BaseException\n",
    "</div>"
   ]
  },
  {
   "cell_type": "code",
   "execution_count": null,
   "metadata": {
    "pycharm": {
     "name": "#%%\n"
    }
   },
   "outputs": [],
   "source": [
    "try:\n",
    "    do_dangerous()\n",
    "except:  # catch everything, even KeyboardInterrupt\n",
    "    pass"
   ]
  },
  {
   "cell_type": "code",
   "execution_count": null,
   "metadata": {
    "pycharm": {
     "name": "#%%\n"
    }
   },
   "outputs": [],
   "source": [
    "try:\n",
    "    do_dangerous()\n",
    "except BaseException:  # same as above\n",
    "    pass"
   ]
  },
  {
   "cell_type": "markdown",
   "metadata": {
    "pycharm": {
     "name": "#%% md\n"
    }
   },
   "source": [
    "Старайтесь максимально конкретизировать исключения в except"
   ]
  },
  {
   "cell_type": "markdown",
   "metadata": {
    "pycharm": {
     "name": "#%% md\n"
    },
    "slideshow": {
     "slide_type": "slide"
    }
   },
   "source": [
    "Бросить исключение можно с помощью ключевого слова `raise`"
   ]
  },
  {
   "cell_type": "code",
   "execution_count": 19,
   "metadata": {
    "pycharm": {
     "name": "#%%\n"
    },
    "slideshow": {
     "slide_type": "-"
    }
   },
   "outputs": [
    {
     "ename": "ValueError",
     "evalue": "Positive integer expected",
     "output_type": "error",
     "traceback": [
      "\u001b[0;31m---------------------------------------------------------------------------\u001b[0m",
      "\u001b[0;31mValueError\u001b[0m                                Traceback (most recent call last)",
      "Cell \u001b[0;32mIn[19], line 1\u001b[0m\n\u001b[0;32m----> 1\u001b[0m \u001b[38;5;28;01mraise\u001b[39;00m \u001b[38;5;167;01mValueError\u001b[39;00m(\u001b[38;5;124m'\u001b[39m\u001b[38;5;124mPositive integer expected\u001b[39m\u001b[38;5;124m'\u001b[39m)\n",
      "\u001b[0;31mValueError\u001b[0m: Positive integer expected"
     ]
    }
   ],
   "source": [
    "raise ValueError('Positive integer expected')"
   ]
  },
  {
   "cell_type": "markdown",
   "metadata": {
    "pycharm": {
     "name": "#%% md\n"
    },
    "slideshow": {
     "slide_type": "slide"
    }
   },
   "source": [
    "Исключение должно быть объектом типа BaseException или его наследника"
   ]
  },
  {
   "cell_type": "code",
   "execution_count": 20,
   "metadata": {
    "pycharm": {
     "name": "#%%\n"
    }
   },
   "outputs": [
    {
     "ename": "TypeError",
     "evalue": "exceptions must derive from BaseException",
     "output_type": "error",
     "traceback": [
      "\u001b[0;31m---------------------------------------------------------------------------\u001b[0m",
      "\u001b[0;31mTypeError\u001b[0m                                 Traceback (most recent call last)",
      "Cell \u001b[0;32mIn[20], line 1\u001b[0m\n\u001b[0;32m----> 1\u001b[0m \u001b[38;5;28;01mraise\u001b[39;00m \u001b[38;5;241m42\u001b[39m\n",
      "\u001b[0;31mTypeError\u001b[0m: exceptions must derive from BaseException"
     ]
    }
   ],
   "source": [
    "raise 42"
   ]
  },
  {
   "cell_type": "markdown",
   "metadata": {
    "pycharm": {
     "name": "#%% md\n"
    },
    "slideshow": {
     "slide_type": "slide"
    }
   },
   "source": [
    "`raise` без аргумента перебрасывает последнее пойманное исключение."
   ]
  },
  {
   "cell_type": "code",
   "execution_count": 39,
   "metadata": {
    "pycharm": {
     "name": "#%%\n"
    }
   },
   "outputs": [
    {
     "name": "stdout",
     "output_type": "stream",
     "text": [
      "Unknown error occured, no chance to recover, run!\n"
     ]
    },
    {
     "ename": "RuntimeError",
     "evalue": "Crash hard",
     "output_type": "error",
     "traceback": [
      "\u001b[0;31m---------------------------------------------------------------------------\u001b[0m",
      "\u001b[0;31mRuntimeError\u001b[0m                              Traceback (most recent call last)",
      "Cell \u001b[0;32mIn[39], line 2\u001b[0m\n\u001b[1;32m      1\u001b[0m \u001b[38;5;28;01mtry\u001b[39;00m:\n\u001b[0;32m----> 2\u001b[0m     \u001b[38;5;28;01mraise\u001b[39;00m \u001b[38;5;167;01mRuntimeError\u001b[39;00m(\u001b[38;5;124m'\u001b[39m\u001b[38;5;124mCrash hard\u001b[39m\u001b[38;5;124m'\u001b[39m)\n\u001b[1;32m      3\u001b[0m \u001b[38;5;28;01mexcept\u001b[39;00m \u001b[38;5;167;01mException\u001b[39;00m \u001b[38;5;28;01mas\u001b[39;00m e:\n\u001b[1;32m      4\u001b[0m     \u001b[38;5;28mprint\u001b[39m(\u001b[38;5;124m'\u001b[39m\u001b[38;5;124mUnknown error occured, no chance to recover, run!\u001b[39m\u001b[38;5;124m'\u001b[39m)\n",
      "\u001b[0;31mRuntimeError\u001b[0m: Crash hard"
     ]
    }
   ],
   "source": [
    "try:\n",
    "    raise RuntimeError('Crash hard')\n",
    "except Exception as e:\n",
    "    print('Unknown error occured, no chance to recover, run!')\n",
    "    raise"
   ]
  },
  {
   "cell_type": "code",
   "execution_count": 23,
   "metadata": {
    "pycharm": {
     "name": "#%%\n"
    }
   },
   "outputs": [
    {
     "ename": "RuntimeError",
     "evalue": "No active exception to reraise",
     "output_type": "error",
     "traceback": [
      "\u001b[0;31m---------------------------------------------------------------------------\u001b[0m",
      "\u001b[0;31mRuntimeError\u001b[0m                              Traceback (most recent call last)",
      "Cell \u001b[0;32mIn[23], line 1\u001b[0m\n\u001b[0;32m----> 1\u001b[0m \u001b[38;5;28;01mraise\u001b[39;00m\n",
      "\u001b[0;31mRuntimeError\u001b[0m: No active exception to reraise"
     ]
    }
   ],
   "source": [
    "raise"
   ]
  },
  {
   "cell_type": "markdown",
   "metadata": {
    "pycharm": {
     "name": "#%% md\n"
    },
    "slideshow": {
     "slide_type": "slide"
    }
   },
   "source": [
    "### Цепочки исключений"
   ]
  },
  {
   "cell_type": "code",
   "execution_count": 46,
   "metadata": {
    "ExecuteTime": {
     "end_time": "2021-10-11T16:25:54.704836Z",
     "start_time": "2021-10-11T16:25:54.696935Z"
    },
    "pycharm": {
     "name": "#%%\n"
    }
   },
   "outputs": [
    {
     "ename": "OSError",
     "evalue": "",
     "output_type": "error",
     "traceback": [
      "\u001b[0;31m---------------------------------------------------------------------------\u001b[0m",
      "\u001b[0;31mZeroDivisionError\u001b[0m                         Traceback (most recent call last)",
      "Cell \u001b[0;32mIn[46], line 5\u001b[0m, in \u001b[0;36mctr\u001b[0;34m(shows, clicks)\u001b[0m\n\u001b[1;32m      4\u001b[0m \u001b[38;5;28;01mtry\u001b[39;00m:\n\u001b[0;32m----> 5\u001b[0m     \u001b[38;5;28;01mreturn\u001b[39;00m \u001b[43mclicks\u001b[49m\u001b[43m \u001b[49m\u001b[38;5;241;43m/\u001b[39;49m\u001b[43m \u001b[49m\u001b[43mshows\u001b[49m\n\u001b[1;32m      6\u001b[0m \u001b[38;5;28;01mexcept\u001b[39;00m \u001b[38;5;167;01mZeroDivisionError\u001b[39;00m \u001b[38;5;28;01mas\u001b[39;00m e:\n",
      "\u001b[0;31mZeroDivisionError\u001b[0m: division by zero",
      "\nThe above exception was the direct cause of the following exception:\n",
      "\u001b[0;31mValueError\u001b[0m                                Traceback (most recent call last)",
      "Cell \u001b[0;32mIn[46], line 7\u001b[0m, in \u001b[0;36mctr\u001b[0;34m(shows, clicks)\u001b[0m\n\u001b[1;32m      6\u001b[0m     \u001b[38;5;28;01mexcept\u001b[39;00m \u001b[38;5;167;01mZeroDivisionError\u001b[39;00m \u001b[38;5;28;01mas\u001b[39;00m e:\n\u001b[0;32m----> 7\u001b[0m         \u001b[38;5;28;01mraise\u001b[39;00m \u001b[38;5;167;01mValueError\u001b[39;00m(\u001b[38;5;124m'\u001b[39m\u001b[38;5;124mBad banner\u001b[39m\u001b[38;5;124m'\u001b[39m) \u001b[38;5;28;01mfrom\u001b[39;00m \u001b[38;5;21;01me\u001b[39;00m\n\u001b[1;32m      8\u001b[0m \u001b[38;5;28;01mexcept\u001b[39;00m \u001b[38;5;167;01mValueError\u001b[39;00m \u001b[38;5;28;01mas\u001b[39;00m e:\n",
      "\u001b[0;31mValueError\u001b[0m: Bad banner",
      "\nThe above exception was the direct cause of the following exception:\n",
      "\u001b[0;31mOSError\u001b[0m                                   Traceback (most recent call last)",
      "Cell \u001b[0;32mIn[46], line 11\u001b[0m\n\u001b[1;32m      8\u001b[0m     \u001b[38;5;28;01mexcept\u001b[39;00m \u001b[38;5;167;01mValueError\u001b[39;00m \u001b[38;5;28;01mas\u001b[39;00m e:\n\u001b[1;32m      9\u001b[0m         \u001b[38;5;28;01mraise\u001b[39;00m \u001b[38;5;167;01mOSError\u001b[39;00m \u001b[38;5;28;01mfrom\u001b[39;00m \u001b[38;5;21;01me\u001b[39;00m\n\u001b[0;32m---> 11\u001b[0m \u001b[43mctr\u001b[49m\u001b[43m(\u001b[49m\u001b[38;5;241;43m0\u001b[39;49m\u001b[43m,\u001b[49m\u001b[43m \u001b[49m\u001b[38;5;241;43m1\u001b[39;49m\u001b[43m)\u001b[49m\n",
      "Cell \u001b[0;32mIn[46], line 9\u001b[0m, in \u001b[0;36mctr\u001b[0;34m(shows, clicks)\u001b[0m\n\u001b[1;32m      7\u001b[0m         \u001b[38;5;28;01mraise\u001b[39;00m \u001b[38;5;167;01mValueError\u001b[39;00m(\u001b[38;5;124m'\u001b[39m\u001b[38;5;124mBad banner\u001b[39m\u001b[38;5;124m'\u001b[39m) \u001b[38;5;28;01mfrom\u001b[39;00m \u001b[38;5;21;01me\u001b[39;00m\n\u001b[1;32m      8\u001b[0m \u001b[38;5;28;01mexcept\u001b[39;00m \u001b[38;5;167;01mValueError\u001b[39;00m \u001b[38;5;28;01mas\u001b[39;00m e:\n\u001b[0;32m----> 9\u001b[0m     \u001b[38;5;28;01mraise\u001b[39;00m \u001b[38;5;167;01mOSError\u001b[39;00m \u001b[38;5;28;01mfrom\u001b[39;00m \u001b[38;5;21;01me\u001b[39;00m\n",
      "\u001b[0;31mOSError\u001b[0m: "
     ]
    }
   ],
   "source": [
    "def ctr(shows, clicks):\n",
    "    \"\"\"Returns banner click-through rate\"\"\"\n",
    "    try:\n",
    "        try:\n",
    "            return clicks / shows\n",
    "        except ZeroDivisionError as e:\n",
    "            raise ValueError('Bad banner') from e\n",
    "    except ValueError as e:\n",
    "        raise OSError from e\n",
    "        \n",
    "ctr(0, 1)"
   ]
  },
  {
   "cell_type": "markdown",
   "metadata": {
    "pycharm": {
     "name": "#%% md\n"
    },
    "slideshow": {
     "slide_type": "slide"
    }
   },
   "source": [
    "### Причина исключения\n",
    "\n",
    "`raise ... from ...`"
   ]
  },
  {
   "cell_type": "code",
   "execution_count": 44,
   "metadata": {
    "pycharm": {
     "name": "#%%\n"
    }
   },
   "outputs": [
    {
     "name": "stdout",
     "output_type": "stream",
     "text": [
      "catch value error\n"
     ]
    }
   ],
   "source": [
    "def ctr(shows, clicks):\n",
    "    \"\"\"Returns banner click-through rate\"\"\"\n",
    "    try:\n",
    "        return clicks / shows\n",
    "    except ZeroDivisionError as e:\n",
    "        raise ValueError('Bad banner') from e\n",
    "try:\n",
    "    ctr(0, 1)\n",
    "except ValueError:\n",
    "    print(\"catch value error\")\n",
    "except ZeroDivisionError:\n",
    "    print(\"catch zero div\")\n"
   ]
  },
  {
   "cell_type": "markdown",
   "metadata": {
    "slideshow": {
     "slide_type": "slide"
    }
   },
   "source": [
    "### Сброс контекста"
   ]
  },
  {
   "cell_type": "code",
   "execution_count": 28,
   "metadata": {},
   "outputs": [
    {
     "ename": "ValueError",
     "evalue": "Bad banner",
     "output_type": "error",
     "traceback": [
      "\u001b[0;31m---------------------------------------------------------------------------\u001b[0m",
      "\u001b[0;31mValueError\u001b[0m                                Traceback (most recent call last)",
      "Cell \u001b[0;32mIn[28], line 7\u001b[0m\n\u001b[1;32m      5\u001b[0m     \u001b[38;5;28;01mexcept\u001b[39;00m \u001b[38;5;167;01mZeroDivisionError\u001b[39;00m \u001b[38;5;28;01mas\u001b[39;00m e:\n\u001b[1;32m      6\u001b[0m         \u001b[38;5;28;01mraise\u001b[39;00m \u001b[38;5;167;01mValueError\u001b[39;00m(\u001b[38;5;124m'\u001b[39m\u001b[38;5;124mBad banner\u001b[39m\u001b[38;5;124m'\u001b[39m) \u001b[38;5;28;01mfrom\u001b[39;00m \u001b[38;5;28;01mNone\u001b[39;00m\n\u001b[0;32m----> 7\u001b[0m \u001b[43mctr\u001b[49m\u001b[43m(\u001b[49m\u001b[38;5;241;43m0\u001b[39;49m\u001b[43m,\u001b[49m\u001b[43m \u001b[49m\u001b[38;5;241;43m1\u001b[39;49m\u001b[43m)\u001b[49m\n",
      "Cell \u001b[0;32mIn[28], line 6\u001b[0m, in \u001b[0;36mctr\u001b[0;34m(shows, clicks)\u001b[0m\n\u001b[1;32m      4\u001b[0m     \u001b[38;5;28;01mreturn\u001b[39;00m clicks \u001b[38;5;241m/\u001b[39m shows\n\u001b[1;32m      5\u001b[0m \u001b[38;5;28;01mexcept\u001b[39;00m \u001b[38;5;167;01mZeroDivisionError\u001b[39;00m \u001b[38;5;28;01mas\u001b[39;00m e:\n\u001b[0;32m----> 6\u001b[0m     \u001b[38;5;28;01mraise\u001b[39;00m \u001b[38;5;167;01mValueError\u001b[39;00m(\u001b[38;5;124m'\u001b[39m\u001b[38;5;124mBad banner\u001b[39m\u001b[38;5;124m'\u001b[39m) \u001b[38;5;28;01mfrom\u001b[39;00m \u001b[38;5;28;01mNone\u001b[39;00m\n",
      "\u001b[0;31mValueError\u001b[0m: Bad banner"
     ]
    }
   ],
   "source": [
    "def ctr(shows, clicks):\n",
    "    \"\"\"Returns banner click-through rate\"\"\"\n",
    "    try:\n",
    "        return clicks / shows\n",
    "    except ZeroDivisionError as e:\n",
    "        raise ValueError('Bad banner') from None\n",
    "ctr(0, 1)"
   ]
  },
  {
   "cell_type": "markdown",
   "metadata": {
    "pycharm": {
     "name": "#%% md\n"
    },
    "slideshow": {
     "slide_type": "slide"
    }
   },
   "source": [
    "Можно создавать свои классы исключений, достаточно отнаследоваться от `Exception`. Хорошая практика — наследовать свои исключения от общего предка, чтобы их было удобнее ловить. Пример кастомных исключений: https://github.com/psf/requests/blob/master/requests/exceptions.py"
   ]
  },
  {
   "cell_type": "code",
   "execution_count": 47,
   "metadata": {
    "pycharm": {
     "name": "#%%\n"
    }
   },
   "outputs": [
    {
     "ename": "WrongFootError",
     "evalue": "Try another one!",
     "output_type": "error",
     "traceback": [
      "\u001b[0;31m---------------------------------------------------------------------------\u001b[0m",
      "\u001b[0;31mWrongFootError\u001b[0m                            Traceback (most recent call last)",
      "Cell \u001b[0;32mIn[47], line 8\u001b[0m\n\u001b[1;32m      5\u001b[0m     \u001b[38;5;28;01mdef\u001b[39;00m \u001b[38;5;21m__str__\u001b[39m(\u001b[38;5;28mself\u001b[39m):\n\u001b[1;32m      6\u001b[0m         \u001b[38;5;28;01mreturn\u001b[39;00m \u001b[38;5;124mf\u001b[39m\u001b[38;5;124m'\u001b[39m\u001b[38;5;124mTry another one!\u001b[39m\u001b[38;5;124m'\u001b[39m\n\u001b[0;32m----> 8\u001b[0m \u001b[38;5;28;01mraise\u001b[39;00m WrongFootError([\u001b[38;5;241m1\u001b[39m, \u001b[38;5;241m2\u001b[39m, \u001b[38;5;241m3\u001b[39m])\n",
      "\u001b[0;31mWrongFootError\u001b[0m: Try another one!"
     ]
    }
   ],
   "source": [
    "class ShoeError(Exception):\n",
    "    pass\n",
    "\n",
    "class WrongFootError(ShoeError):\n",
    "    def __str__(self):\n",
    "        return f'Try another one!'\n",
    "        \n",
    "raise WrongFootError([1, 2, 3])"
   ]
  },
  {
   "cell_type": "markdown",
   "metadata": {
    "pycharm": {
     "name": "#%% md\n"
    },
    "slideshow": {
     "slide_type": "slide"
    }
   },
   "source": [
    "Как устроены объекты-исключения"
   ]
  },
  {
   "cell_type": "code",
   "execution_count": 48,
   "metadata": {
    "pycharm": {
     "name": "#%%\n"
    }
   },
   "outputs": [],
   "source": [
    "try:\n",
    "    raise ValueError(1, 2, 3)\n",
    "except Exception as e:\n",
    "    exc = e"
   ]
  },
  {
   "cell_type": "code",
   "execution_count": 49,
   "metadata": {
    "pycharm": {
     "name": "#%%\n"
    }
   },
   "outputs": [
    {
     "data": {
      "text/plain": [
       "(1, 2, 3)"
      ]
     },
     "execution_count": 49,
     "metadata": {},
     "output_type": "execute_result"
    }
   ],
   "source": [
    "exc.args  # аргументы конструктора"
   ]
  },
  {
   "cell_type": "code",
   "execution_count": 50,
   "metadata": {
    "pycharm": {
     "name": "#%%\n"
    }
   },
   "outputs": [
    {
     "data": {
      "text/plain": [
       "<traceback at 0x7fe7b4372a00>"
      ]
     },
     "execution_count": 50,
     "metadata": {},
     "output_type": "execute_result"
    }
   ],
   "source": [
    "exc.__cause__  # причина исключения, устанавливается при raise EXC from CAUSE\n",
    "exc.__context__  # последнее пойманное исключение, для цепочек исключений\n",
    "exc.__traceback__"
   ]
  },
  {
   "cell_type": "code",
   "execution_count": 56,
   "metadata": {
    "pycharm": {
     "name": "#%%\n"
    }
   },
   "outputs": [
    {
     "ename": "ValueError",
     "evalue": "(1, 2, 3)",
     "output_type": "error",
     "traceback": [
      "\u001b[0;31m---------------------------------------------------------------------------\u001b[0m",
      "\u001b[0;31mValueError\u001b[0m                                Traceback (most recent call last)",
      "Cell \u001b[0;32mIn[56], line 3\u001b[0m\n\u001b[1;32m      1\u001b[0m \u001b[38;5;66;03m#exc.with_traceback(tb)  # устанавливает __traceback__ в новое значение tb\u001b[39;00m\n\u001b[1;32m      2\u001b[0m exc\u001b[38;5;241m.\u001b[39madd_note(\u001b[38;5;124m\"\u001b[39m\u001b[38;5;124msome text\u001b[39m\u001b[38;5;124m\"\u001b[39m)\n\u001b[0;32m----> 3\u001b[0m \u001b[38;5;28;01mraise\u001b[39;00m exc\n",
      "Cell \u001b[0;32mIn[48], line 2\u001b[0m\n\u001b[1;32m      1\u001b[0m \u001b[38;5;28;01mtry\u001b[39;00m:\n\u001b[0;32m----> 2\u001b[0m     \u001b[38;5;28;01mraise\u001b[39;00m \u001b[38;5;167;01mValueError\u001b[39;00m(\u001b[38;5;241m1\u001b[39m, \u001b[38;5;241m2\u001b[39m, \u001b[38;5;241m3\u001b[39m)\n\u001b[1;32m      3\u001b[0m \u001b[38;5;28;01mexcept\u001b[39;00m \u001b[38;5;167;01mException\u001b[39;00m \u001b[38;5;28;01mas\u001b[39;00m e:\n\u001b[1;32m      4\u001b[0m     exc \u001b[38;5;241m=\u001b[39m e\n",
      "\u001b[0;31mValueError\u001b[0m: (1, 2, 3)",
      "\u001b[0msome text",
      "\u001b[0msome text"
     ]
    }
   ],
   "source": [
    "#exc.with_traceback(tb)  # устанавливает __traceback__ в новое значение tb\n",
    "exc.add_note(\"some text\")\n",
    "raise exc"
   ]
  },
  {
   "cell_type": "markdown",
   "metadata": {
    "pycharm": {
     "name": "#%% md\n"
    },
    "slideshow": {
     "slide_type": "slide"
    }
   },
   "source": [
    "### Warnings"
   ]
  },
  {
   "cell_type": "code",
   "execution_count": 59,
   "metadata": {
    "ExecuteTime": {
     "end_time": "2021-10-11T16:28:46.773027Z",
     "start_time": "2021-10-11T16:28:46.657861Z"
    },
    "pycharm": {
     "name": "#%%\n"
    },
    "slideshow": {
     "slide_type": "fragment"
    }
   },
   "outputs": [
    {
     "name": "stderr",
     "output_type": "stream",
     "text": [
      "/tmp/ipykernel_4771/3395287266.py:3: RuntimeWarning: divide by zero encountered in scalar divide\n",
      "  np.int32(1) / np.int32(0)\n"
     ]
    },
    {
     "data": {
      "text/plain": [
       "inf"
      ]
     },
     "execution_count": 59,
     "metadata": {},
     "output_type": "execute_result"
    }
   ],
   "source": [
    "import numpy as np\n",
    "\n",
    "np.int32(1) / np.int32(0)"
   ]
  },
  {
   "cell_type": "code",
   "execution_count": 62,
   "metadata": {
    "ExecuteTime": {
     "end_time": "2021-10-11T16:41:40.316415Z",
     "start_time": "2021-10-11T16:41:40.312876Z"
    },
    "pycharm": {
     "name": "#%%\n"
    },
    "slideshow": {
     "slide_type": "fragment"
    }
   },
   "outputs": [
    {
     "name": "stderr",
     "output_type": "stream",
     "text": [
      "/tmp/ipykernel_4771/2178758311.py:4: RuntimeWarning: divide by zero encountered in scalar divide\n",
      "  np.int32(1) / np.int32(0)\n"
     ]
    }
   ],
   "source": [
    "import numpy as np\n",
    "\n",
    "try:\n",
    "    np.int32(1) / np.int32(0)\n",
    "except Exeption:\n",
    "    print(\"Exception\")"
   ]
  },
  {
   "cell_type": "markdown",
   "metadata": {
    "pycharm": {
     "name": "#%% md\n"
    }
   },
   "source": [
    "То есть не смотря на то, что Warnings - наследник Exeption, всё равно не удается поймать и обработать warning."
   ]
  },
  {
   "cell_type": "markdown",
   "metadata": {
    "pycharm": {
     "name": "#%% md\n"
    },
    "slideshow": {
     "slide_type": "slide"
    }
   },
   "source": [
    "### Warnings"
   ]
  },
  {
   "cell_type": "code",
   "execution_count": 63,
   "metadata": {
    "ExecuteTime": {
     "end_time": "2021-10-11T16:28:50.794841Z",
     "start_time": "2021-10-11T16:28:50.790484Z"
    },
    "pycharm": {
     "name": "#%%\n"
    },
    "slideshow": {
     "slide_type": "-"
    }
   },
   "outputs": [
    {
     "name": "stdout",
     "output_type": "stream",
     "text": [
      "Exception RuntimeWarning('divide by zero encountered in scalar divide')\n"
     ]
    }
   ],
   "source": [
    "import numpy as np\n",
    "import warnings\n",
    "\n",
    "warnings.filterwarnings(\"error\")\n",
    "try:\n",
    "    np.int32(1) / np.int32(0)\n",
    "except Exception as e:\n",
    "    print(f\"Exception {e!r}\")\n",
    "\n",
    "warnings.resetwarnings()"
   ]
  },
  {
   "cell_type": "code",
   "execution_count": 64,
   "metadata": {
    "ExecuteTime": {
     "end_time": "2021-10-11T16:28:53.819548Z",
     "start_time": "2021-10-11T16:28:53.815846Z"
    },
    "pycharm": {
     "name": "#%%\n"
    }
   },
   "outputs": [],
   "source": [
    "import numpy as np\n",
    "import warnings\n",
    "\n",
    "warnings.filterwarnings(\"ignore\")\n",
    "try:\n",
    "    np.int32(1) / np.int32(0)\n",
    "except Exception as e:\n",
    "    print(f\"Exception {e!r}\")\n",
    "\n",
    "warnings.resetwarnings()"
   ]
  },
  {
   "cell_type": "markdown",
   "metadata": {
    "pycharm": {
     "name": "#%% md\n"
    },
    "slideshow": {
     "slide_type": "slide"
    }
   },
   "source": [
    "Полезные штуки"
   ]
  },
  {
   "cell_type": "markdown",
   "metadata": {
    "pycharm": {
     "name": "#%% md\n"
    }
   },
   "source": [
    "- `sys.exc_info()` — возвращает информацию о текущем обрабатываемом исключении\n",
    "- Модуль `traceback`\n",
    "- Модуль `warnings`"
   ]
  },
  {
   "cell_type": "markdown",
   "metadata": {
    "slideshow": {
     "slide_type": "slide"
    }
   },
   "source": [
    "## Группы исключений\n",
    "\n",
    "Проблема: предположим, что у нас есть следующая функция:\n",
    "\n",
    "`run_parralel(list_of_functions, list_of_args, n_jobs=-1)`\n",
    "\n",
    "Каждая вызванная внутри функция может выбросить ошибку. Какую ошибку тогда нужно ловить? Как понять, какие ошибки произошли в каждой из функций?"
   ]
  },
  {
   "cell_type": "markdown",
   "metadata": {
    "slideshow": {
     "slide_type": "notes"
    }
   },
   "source": [
    "В чем проблемы Exception? Можно ли просто сложить exceptions в список? Почему Как должен быть устроен \"полноценный\" Exception, который способен поддерживать сложные исключения?"
   ]
  },
  {
   "cell_type": "markdown",
   "metadata": {
    "slideshow": {
     "slide_type": "slide"
    }
   },
   "source": [
    "### ExceptionGroup"
   ]
  },
  {
   "cell_type": "markdown",
   "metadata": {
    "slideshow": {
     "slide_type": "-"
    }
   },
   "source": [
    "Exception не может в полной мере отразить независимый набор ошибок. Поэтому у нас есть ExceptionGroup, представляющий из себя дерево."
   ]
  },
  {
   "cell_type": "code",
   "execution_count": 65,
   "metadata": {},
   "outputs": [
    {
     "name": "stderr",
     "output_type": "stream",
     "text": [
      "  + Exception Group Traceback (most recent call last):\n",
      "  |   File \"/home/i_love_myself/.local/lib/python3.11/site-packages/IPython/core/interactiveshell.py\", line 3526, in run_code\n",
      "  |     exec(code_obj, self.user_global_ns, self.user_ns)\n",
      "  |   File \"/tmp/ipykernel_4771/1694592148.py\", line 15, in <module>\n",
      "  |     raise eg\n",
      "  | ExceptionGroup: one (3 sub-exceptions)\n",
      "  +-+---------------- 1 ----------------\n",
      "    | TypeError: 1\n",
      "    +---------------- 2 ----------------\n",
      "    | ExceptionGroup: two (2 sub-exceptions)\n",
      "    +-+---------------- 1 ----------------\n",
      "      | TypeError: 2\n",
      "      +---------------- 2 ----------------\n",
      "      | ValueError: 3\n",
      "      +------------------------------------\n",
      "    +---------------- 3 ----------------\n",
      "    | ExceptionGroup: three (1 sub-exception)\n",
      "    +-+---------------- 1 ----------------\n",
      "      | OSError: 4\n",
      "      +------------------------------------\n"
     ]
    }
   ],
   "source": [
    "eg = ExceptionGroup(\n",
    "     \"one\",\n",
    "     [\n",
    "         TypeError(1),\n",
    "         ExceptionGroup(\n",
    "             \"two\",\n",
    "              [TypeError(2), ValueError(3)]\n",
    "         ),\n",
    "         ExceptionGroup(\n",
    "              \"three\",\n",
    "               [OSError(4)]\n",
    "         )\n",
    "    ]\n",
    ")\n",
    "raise eg"
   ]
  },
  {
   "cell_type": "markdown",
   "metadata": {
    "slideshow": {
     "slide_type": "slide"
    }
   },
   "source": [
    "### Методы обработки ExceptionGroup: subgroup"
   ]
  },
  {
   "cell_type": "code",
   "execution_count": 66,
   "metadata": {},
   "outputs": [
    {
     "name": "stderr",
     "output_type": "stream",
     "text": [
      "  + Exception Group Traceback (most recent call last):\n",
      "  |   File \"/home/i_love_myself/.local/lib/python3.11/site-packages/IPython/core/interactiveshell.py\", line 3526, in run_code\n",
      "  |     exec(code_obj, self.user_global_ns, self.user_ns)\n",
      "  |   File \"/tmp/ipykernel_4771/3884788820.py\", line 2, in <module>\n",
      "  |     raise type_errors\n",
      "  |   File \"/home/i_love_myself/.local/lib/python3.11/site-packages/IPython/core/interactiveshell.py\", line 3526, in run_code\n",
      "  |     exec(code_obj, self.user_global_ns, self.user_ns)\n",
      "  |   File \"/tmp/ipykernel_4771/1694592148.py\", line 15, in <module>\n",
      "  |     raise eg\n",
      "  | ExceptionGroup: one (2 sub-exceptions)\n",
      "  +-+---------------- 1 ----------------\n",
      "    | TypeError: 1\n",
      "    +---------------- 2 ----------------\n",
      "    | ExceptionGroup: two (1 sub-exception)\n",
      "    +-+---------------- 1 ----------------\n",
      "      | TypeError: 2\n",
      "      +------------------------------------\n"
     ]
    }
   ],
   "source": [
    "type_errors = eg.subgroup(lambda e: isinstance(e, TypeError))\n",
    "raise type_errors"
   ]
  },
  {
   "cell_type": "markdown",
   "metadata": {
    "slideshow": {
     "slide_type": "slide"
    }
   },
   "source": [
    "### Методы обработки ExceptionGroup: split"
   ]
  },
  {
   "cell_type": "code",
   "execution_count": 67,
   "metadata": {},
   "outputs": [
    {
     "name": "stderr",
     "output_type": "stream",
     "text": [
      "  + Exception Group Traceback (most recent call last):\n",
      "  |   File \"/home/i_love_myself/.local/lib/python3.11/site-packages/IPython/core/interactiveshell.py\", line 3526, in run_code\n",
      "  |     exec(code_obj, self.user_global_ns, self.user_ns)\n",
      "  |   File \"/tmp/ipykernel_4771/4260658738.py\", line 2, in <module>\n",
      "  |     raise other_errors\n",
      "  |   File \"/home/i_love_myself/.local/lib/python3.11/site-packages/IPython/core/interactiveshell.py\", line 3526, in run_code\n",
      "  |     exec(code_obj, self.user_global_ns, self.user_ns)\n",
      "  |   File \"/tmp/ipykernel_4771/1694592148.py\", line 15, in <module>\n",
      "  |     raise eg\n",
      "  | ExceptionGroup: one (2 sub-exceptions)\n",
      "  +-+---------------- 1 ----------------\n",
      "    | ExceptionGroup: two (1 sub-exception)\n",
      "    +-+---------------- 1 ----------------\n",
      "      | ValueError: 3\n",
      "      +------------------------------------\n",
      "    +---------------- 2 ----------------\n",
      "    | ExceptionGroup: three (1 sub-exception)\n",
      "    +-+---------------- 1 ----------------\n",
      "      | OSError: 4\n",
      "      +------------------------------------\n"
     ]
    }
   ],
   "source": [
    "type_errors, other_errors = eg.split(lambda e: isinstance(e, TypeError))\n",
    "raise other_errors"
   ]
  },
  {
   "cell_type": "markdown",
   "metadata": {
    "slideshow": {
     "slide_type": "slide"
    }
   },
   "source": [
    "### Методы обработки ExceptionGroup: except*"
   ]
  },
  {
   "cell_type": "code",
   "execution_count": 70,
   "metadata": {},
   "outputs": [
    {
     "name": "stderr",
     "output_type": "stream",
     "text": [
      "  + Exception Group Traceback (most recent call last):\n",
      "  |   File \"/home/i_love_myself/.local/lib/python3.11/site-packages/IPython/core/interactiveshell.py\", line 3526, in run_code\n",
      "  |     exec(code_obj, self.user_global_ns, self.user_ns)\n",
      "  | ExceptionGroup:  (2 sub-exceptions)\n",
      "  +-+---------------- 1 ----------------\n",
      "    | Exception Group Traceback (most recent call last):\n",
      "    |   File \"/tmp/ipykernel_4771/3882920468.py\", line 19, in <module>\n",
      "    |     raise exc from None\n",
      "    |   File \"/tmp/ipykernel_4771/3882920468.py\", line 15, in <module>\n",
      "    |     low_level_os_operation()\n",
      "    |   File \"/tmp/ipykernel_4771/3882920468.py\", line 4, in low_level_os_operation\n",
      "    |     raise ExceptionGroup(\n",
      "    | ExceptionGroup: subtasks (2 sub-exceptions)\n",
      "    +-+---------------- 1 ----------------\n",
      "      | FileNotFoundError: [Errno 2] No such file or directory\n",
      "      +---------------- 2 ----------------\n",
      "      | PermissionError: [Errno 13] Permission denied\n",
      "      +------------------------------------\n",
      "    +---------------- 2 ----------------\n",
      "    | Exception Group Traceback (most recent call last):\n",
      "    |   File \"/tmp/ipykernel_4771/3882920468.py\", line 21, in <module>\n",
      "    |     raise errors from None\n",
      "    |   File \"/tmp/ipykernel_4771/3882920468.py\", line 15, in <module>\n",
      "    |     low_level_os_operation()\n",
      "    |   File \"/tmp/ipykernel_4771/3882920468.py\", line 4, in low_level_os_operation\n",
      "    |     raise ExceptionGroup(\n",
      "    | ExceptionGroup: subtasks (1 sub-exception)\n",
      "    +-+---------------- 1 ----------------\n",
      "      | ValueError: bad value\n",
      "      +------------------------------------\n"
     ]
    }
   ],
   "source": [
    "import errno\n",
    "\n",
    "def low_level_os_operation() -> None:\n",
    "    raise ExceptionGroup(\n",
    "        \"subtasks\",\n",
    "        [\n",
    "            OSError(errno.EPIPE, \"Broken pipe\"),\n",
    "            OSError(errno.ENOENT, \"No such file or directory\"),\n",
    "            OSError(errno.EACCES, \"Permission denied\"),\n",
    "            ValueError(\"bad value\")\n",
    "        ]\n",
    "    )\n",
    "    \n",
    "try:\n",
    "    low_level_os_operation()\n",
    "except* OSError as errors:\n",
    "    exc = errors.subgroup(lambda e: isinstance(e, OSError) and e.errno != errno.EPIPE)\n",
    "    if exc is not None:\n",
    "        raise exc from None\n",
    "except* ValueError as errors:\n",
    "    raise errors from None"
   ]
  },
  {
   "cell_type": "markdown",
   "metadata": {
    "pycharm": {
     "name": "#%% md\n"
    },
    "slideshow": {
     "slide_type": "slide"
    }
   },
   "source": [
    "# Менеджеры контекста"
   ]
  },
  {
   "cell_type": "markdown",
   "metadata": {
    "pycharm": {
     "name": "#%% md\n"
    },
    "slideshow": {
     "slide_type": "slide"
    }
   },
   "source": [
    "Начнём издалека.\n",
    "\n",
    "Доклад Скотта Майерса \"Why C++ Sails When the Vasa Sank\" в Яндексе, 2014.\n",
    "\n",
    "__\"What you would consider the single most important feature in C++?\"__\n",
    "\n",
    "https://youtu.be/ltCgzYcpFUI?t=952"
   ]
  },
  {
   "cell_type": "markdown",
   "metadata": {
    "pycharm": {
     "name": "#%% md\n"
    },
    "slideshow": {
     "slide_type": "slide"
    }
   },
   "source": [
    "Как гарантировать, что некоторое действие будет выполнено вне зависимости от того, произошло исключение или нет?"
   ]
  },
  {
   "cell_type": "code",
   "execution_count": 71,
   "metadata": {
    "pycharm": {
     "name": "#%%\n"
    }
   },
   "outputs": [
    {
     "name": "stdout",
     "output_type": "stream",
     "text": [
      "Closing file\n",
      "File closed\n"
     ]
    },
    {
     "ename": "RuntimeError",
     "evalue": "Not today!",
     "output_type": "error",
     "traceback": [
      "\u001b[0;31m---------------------------------------------------------------------------\u001b[0m",
      "\u001b[0;31mRuntimeError\u001b[0m                              Traceback (most recent call last)",
      "Cell \u001b[0;32mIn[71], line 6\u001b[0m\n\u001b[1;32m      4\u001b[0m fd \u001b[38;5;241m=\u001b[39m \u001b[38;5;28mopen\u001b[39m(\u001b[38;5;124m'\u001b[39m\u001b[38;5;124mmyfile.txt\u001b[39m\u001b[38;5;124m'\u001b[39m, \u001b[38;5;124m'\u001b[39m\u001b[38;5;124mw\u001b[39m\u001b[38;5;124m'\u001b[39m)\n\u001b[1;32m      5\u001b[0m \u001b[38;5;28;01mtry\u001b[39;00m:\n\u001b[0;32m----> 6\u001b[0m     \u001b[43mdo_something_dangerous\u001b[49m\u001b[43m(\u001b[49m\u001b[43mfd\u001b[49m\u001b[43m)\u001b[49m\n\u001b[1;32m      7\u001b[0m \u001b[38;5;28;01mfinally\u001b[39;00m:\n\u001b[1;32m      8\u001b[0m     \u001b[38;5;28mprint\u001b[39m(\u001b[38;5;124m'\u001b[39m\u001b[38;5;124mClosing file\u001b[39m\u001b[38;5;124m'\u001b[39m)\n",
      "Cell \u001b[0;32mIn[71], line 2\u001b[0m, in \u001b[0;36mdo_something_dangerous\u001b[0;34m(fd)\u001b[0m\n\u001b[1;32m      1\u001b[0m \u001b[38;5;28;01mdef\u001b[39;00m \u001b[38;5;21mdo_something_dangerous\u001b[39m(fd):\n\u001b[0;32m----> 2\u001b[0m     \u001b[38;5;28;01mraise\u001b[39;00m \u001b[38;5;167;01mRuntimeError\u001b[39;00m(\u001b[38;5;124m'\u001b[39m\u001b[38;5;124mNot today!\u001b[39m\u001b[38;5;124m'\u001b[39m)\n",
      "\u001b[0;31mRuntimeError\u001b[0m: Not today!"
     ]
    }
   ],
   "source": [
    "def do_something_dangerous(fd):\n",
    "    raise RuntimeError('Not today!')\n",
    "\n",
    "fd = open('myfile.txt', 'w')\n",
    "try:\n",
    "    do_something_dangerous(fd)\n",
    "finally:\n",
    "    print('Closing file')\n",
    "    fd.close()\n",
    "    print('File closed')"
   ]
  },
  {
   "cell_type": "markdown",
   "metadata": {
    "pycharm": {
     "name": "#%% md\n"
    },
    "slideshow": {
     "slide_type": "slide"
    }
   },
   "source": [
    "Менеджеры контекста предоставляют удобный способ провести инициализацию и гарантированную финализацию \"контекста\"."
   ]
  },
  {
   "cell_type": "code",
   "execution_count": null,
   "metadata": {
    "pycharm": {
     "name": "#%%\n"
    }
   },
   "outputs": [],
   "source": [
    "r = aquire_resource()\n",
    "try:\n",
    "    use_resource(r)\n",
    "finally:\n",
    "    release_resource(r)"
   ]
  },
  {
   "cell_type": "code",
   "execution_count": null,
   "metadata": {
    "pycharm": {
     "name": "#%%\n"
    }
   },
   "outputs": [],
   "source": [
    "with aquire_resource() as r:\n",
    "    use_resource(r)"
   ]
  },
  {
   "cell_type": "markdown",
   "metadata": {
    "pycharm": {
     "name": "#%% md\n"
    },
    "slideshow": {
     "slide_type": "slide"
    }
   },
   "source": [
    "Примеры менеджеров контекста: `open`"
   ]
  },
  {
   "cell_type": "code",
   "execution_count": 72,
   "metadata": {
    "ExecuteTime": {
     "end_time": "2021-10-11T16:32:04.064597Z",
     "start_time": "2021-10-11T16:32:04.056058Z"
    },
    "pycharm": {
     "name": "#%%\n"
    }
   },
   "outputs": [
    {
     "ename": "ValueError",
     "evalue": "I/O operation on closed file.",
     "output_type": "error",
     "traceback": [
      "\u001b[0;31m---------------------------------------------------------------------------\u001b[0m",
      "\u001b[0;31mValueError\u001b[0m                                Traceback (most recent call last)",
      "Cell \u001b[0;32mIn[72], line 4\u001b[0m\n\u001b[1;32m      2\u001b[0m     fd\u001b[38;5;241m.\u001b[39mwrite(\u001b[38;5;124m\"\u001b[39m\u001b[38;5;124mHello\u001b[39m\u001b[38;5;124m\"\u001b[39m)\n\u001b[1;32m      3\u001b[0m \u001b[38;5;66;03m# file is closed\u001b[39;00m\n\u001b[0;32m----> 4\u001b[0m \u001b[43mfd\u001b[49m\u001b[38;5;241;43m.\u001b[39;49m\u001b[43mwrite\u001b[49m\u001b[43m(\u001b[49m\u001b[38;5;124;43m\"\u001b[39;49m\u001b[38;5;124;43mworld\u001b[39;49m\u001b[38;5;124;43m\"\u001b[39;49m\u001b[43m)\u001b[49m\n",
      "\u001b[0;31mValueError\u001b[0m: I/O operation on closed file."
     ]
    }
   ],
   "source": [
    "with open('filename.txt', 'w') as fd:\n",
    "    fd.write(\"Hello\")\n",
    "# file is closed\n",
    "fd.write(\"world\")"
   ]
  },
  {
   "cell_type": "markdown",
   "metadata": {
    "pycharm": {
     "name": "#%% md\n"
    },
    "slideshow": {
     "slide_type": "slide"
    }
   },
   "source": [
    "Примеры менеджеров контекста: `tempfile`"
   ]
  },
  {
   "cell_type": "code",
   "execution_count": null,
   "metadata": {
    "pycharm": {
     "name": "#%%\n"
    }
   },
   "outputs": [],
   "source": [
    "import tempfile\n",
    "\n",
    "with tempfile.TemporaryFile() as tmp:\n",
    "    do_something(tmp)\n",
    "# tmp file is removed"
   ]
  },
  {
   "cell_type": "markdown",
   "metadata": {
    "pycharm": {
     "name": "#%% md\n"
    },
    "slideshow": {
     "slide_type": "slide"
    }
   },
   "source": [
    "Примеры менеджеров контекста: Python Database API"
   ]
  },
  {
   "cell_type": "code",
   "execution_count": null,
   "metadata": {
    "pycharm": {
     "name": "#%%\n"
    }
   },
   "outputs": [],
   "source": [
    "import psycopg2\n",
    "with psycopg2.connect(...) as conn:\n",
    "    with conn.cursor() as cursor:\n",
    "        cursor.execute('SELECT * FROM MyTable', params)\n",
    "        result = cursor.fetchall()\n",
    "# cursor.close() is called\n",
    "# conn.commit() or conn.rollback() is called"
   ]
  },
  {
   "cell_type": "markdown",
   "metadata": {
    "pycharm": {
     "name": "#%% md\n"
    },
    "slideshow": {
     "slide_type": "slide"
    }
   },
   "source": [
    "Примеры менеджеров контекста: `pytest`"
   ]
  },
  {
   "cell_type": "code",
   "execution_count": 75,
   "metadata": {
    "ExecuteTime": {
     "end_time": "2021-10-11T16:34:15.150001Z",
     "start_time": "2021-10-11T16:34:15.141828Z"
    },
    "pycharm": {
     "name": "#%%\n"
    }
   },
   "outputs": [
    {
     "ename": "Failed",
     "evalue": "DID NOT RAISE <class 'ZeroDivisionError'>",
     "output_type": "error",
     "traceback": [
      "\u001b[0;31m---------------------------------------------------------------------------\u001b[0m",
      "\u001b[0;31mFailed\u001b[0m                                    Traceback (most recent call last)",
      "Cell \u001b[0;32mIn[75], line 5\u001b[0m\n\u001b[1;32m      3\u001b[0m     a \u001b[38;5;241m=\u001b[39m \u001b[38;5;241m1\u001b[39m \u001b[38;5;241m/\u001b[39m \u001b[38;5;241m0\u001b[39m\n\u001b[1;32m      4\u001b[0m \u001b[38;5;66;03m# ZeroDivisionError is not expected to occur anymore and will cause test to fail\u001b[39;00m\n\u001b[0;32m----> 5\u001b[0m \u001b[38;5;28;43;01mwith\u001b[39;49;00m\u001b[43m \u001b[49m\u001b[43mpytest\u001b[49m\u001b[38;5;241;43m.\u001b[39;49m\u001b[43mraises\u001b[49m\u001b[43m(\u001b[49m\u001b[38;5;167;43;01mZeroDivisionError\u001b[39;49;00m\u001b[43m)\u001b[49m\u001b[43m:\u001b[49m\n\u001b[1;32m      6\u001b[0m \u001b[43m    \u001b[49m\u001b[43ma\u001b[49m\u001b[43m \u001b[49m\u001b[38;5;241;43m=\u001b[39;49m\u001b[43m \u001b[49m\u001b[38;5;241;43m0\u001b[39;49m\u001b[43m \u001b[49m\u001b[38;5;241;43m/\u001b[39;49m\u001b[43m \u001b[49m\u001b[38;5;241;43m1\u001b[39;49m\n",
      "    \u001b[0;31m[... skipping hidden 1 frame]\u001b[0m\n",
      "File \u001b[0;32m~/.local/lib/python3.11/site-packages/_pytest/outcomes.py:198\u001b[0m, in \u001b[0;36mfail\u001b[0;34m(reason, pytrace, msg)\u001b[0m\n\u001b[1;32m    196\u001b[0m __tracebackhide__ \u001b[38;5;241m=\u001b[39m \u001b[38;5;28;01mTrue\u001b[39;00m\n\u001b[1;32m    197\u001b[0m reason \u001b[38;5;241m=\u001b[39m _resolve_msg_to_reason(\u001b[38;5;124m\"\u001b[39m\u001b[38;5;124mfail\u001b[39m\u001b[38;5;124m\"\u001b[39m, reason, msg)\n\u001b[0;32m--> 198\u001b[0m \u001b[38;5;28;01mraise\u001b[39;00m Failed(msg\u001b[38;5;241m=\u001b[39mreason, pytrace\u001b[38;5;241m=\u001b[39mpytrace)\n",
      "\u001b[0;31mFailed\u001b[0m: DID NOT RAISE <class 'ZeroDivisionError'>"
     ]
    }
   ],
   "source": [
    "import pytest\n",
    "with pytest.raises(ZeroDivisionError):\n",
    "    a = 1 / 0\n",
    "# ZeroDivisionError is not expected to occur anymore and will cause test to fail\n",
    "with pytest.raises(ZeroDivisionError):\n",
    "    a = 0 / 1"
   ]
  },
  {
   "cell_type": "markdown",
   "metadata": {
    "pycharm": {
     "name": "#%% md\n"
    },
    "slideshow": {
     "slide_type": "slide"
    }
   },
   "source": [
    "Примеры менеджеров контекста: `warnings`"
   ]
  },
  {
   "cell_type": "code",
   "execution_count": 76,
   "metadata": {
    "ExecuteTime": {
     "end_time": "2021-10-11T16:36:10.026821Z",
     "start_time": "2021-10-11T16:36:10.021516Z"
    },
    "pycharm": {
     "name": "#%%\n"
    }
   },
   "outputs": [
    {
     "name": "stdout",
     "output_type": "stream",
     "text": [
      "{message : RuntimeWarning('divide by zero encountered in scalar divide'), category : 'RuntimeWarning', filename : '/tmp/ipykernel_4771/105942860.py', lineno : 7, line : None}\n",
      "{message : RuntimeWarning('divide by zero encountered in log'), category : 'RuntimeWarning', filename : '/tmp/ipykernel_4771/105942860.py', lineno : 8, line : None}\n"
     ]
    }
   ],
   "source": [
    "import numpy as np\n",
    "import warnings\n",
    "\n",
    "with warnings.catch_warnings(record=True) as w:\n",
    "    # Cause all warnings to always be triggered.\n",
    "    warnings.simplefilter(\"always\")\n",
    "    np.int32(1) / np.int32(0)\n",
    "    np.log(0)\n",
    "    \n",
    "    for warn in w:\n",
    "        print(warn)"
   ]
  },
  {
   "cell_type": "markdown",
   "metadata": {
    "pycharm": {
     "name": "#%% md\n"
    },
    "slideshow": {
     "slide_type": "slide"
    }
   },
   "source": [
    "Синтаксис выражения `with`"
   ]
  },
  {
   "cell_type": "code",
   "execution_count": null,
   "metadata": {
    "pycharm": {
     "name": "#%%\n"
    }
   },
   "outputs": [],
   "source": [
    "# nested contexts\n",
    "with open('file1.txt') as file1, open('file2.txt') as file2:\n",
    "    do_something(f, s)\n",
    "# since python 3.11\n",
    "with (open('file1.txt'), open('file2.txt')) as (file1, file2):\n",
    "    do_something(f, s)"
   ]
  },
  {
   "cell_type": "code",
   "execution_count": null,
   "metadata": {
    "pycharm": {
     "name": "#%%\n"
    }
   },
   "outputs": [],
   "source": [
    "# same as above\n",
    "with first() as f:\n",
    "    with second as s():\n",
    "        do_something(f, s)"
   ]
  },
  {
   "cell_type": "code",
   "execution_count": null,
   "metadata": {
    "pycharm": {
     "name": "#%%\n"
    }
   },
   "outputs": [],
   "source": [
    "with third():  # <as NAME> part as optional\n",
    "    do_something()"
   ]
  },
  {
   "cell_type": "markdown",
   "metadata": {
    "pycharm": {
     "name": "#%% md\n"
    },
    "slideshow": {
     "slide_type": "slide"
    }
   },
   "source": [
    "Менеджеры контекста — объекты, реализующие специальный протокол"
   ]
  },
  {
   "cell_type": "code",
   "execution_count": null,
   "metadata": {
    "pycharm": {
     "name": "#%%\n"
    }
   },
   "outputs": [],
   "source": [
    "import typing as tp\n",
    "from types import TracebackType\n",
    "\n",
    "class MyContextManager:\n",
    "    def __enter__(self) -> tp.Self: # with () as X\n",
    "        # initialize context\n",
    "        return self\n",
    "    \n",
    "    def __exit__(self,\n",
    "                 exc_type: type[BaseException] | None,\n",
    "                 exc_value: BaseException | None,\n",
    "                 traceback: TracebackType | None) -> bool | None:\n",
    "        # finalize context\n",
    "        if exc_value is not None:\n",
    "            return True  # return True from __exit__ to suppress the exception"
   ]
  },
  {
   "cell_type": "markdown",
   "metadata": {
    "pycharm": {
     "name": "#%% md\n"
    },
    "slideshow": {
     "slide_type": "slide"
    }
   },
   "source": [
    "Семантика"
   ]
  },
  {
   "cell_type": "code",
   "execution_count": null,
   "metadata": {
    "pycharm": {
     "name": "#%%\n"
    }
   },
   "outputs": [],
   "source": [
    "with acquire_resource() as resource:\n",
    "    use_resource(resource)"
   ]
  },
  {
   "cell_type": "code",
   "execution_count": null,
   "metadata": {
    "pycharm": {
     "name": "#%%\n"
    }
   },
   "outputs": [],
   "source": [
    "manager = acquire_resource()\n",
    "resource = manager.__enter__()\n",
    "try:\n",
    "    use_resource(resource)\n",
    "finally:\n",
    "    exc_type, exc_value, traceback = sys.exc_info()\n",
    "    suppress = manager.__exit__(exc_type, exc_value, traceback)\n",
    "    if exc_value is not None and not suppress:\n",
    "        raise exc_value"
   ]
  },
  {
   "cell_type": "markdown",
   "metadata": {
    "pycharm": {
     "name": "#%% md\n"
    },
    "slideshow": {
     "slide_type": "slide"
    }
   },
   "source": [
    "Полушуточный пример"
   ]
  },
  {
   "cell_type": "code",
   "execution_count": 78,
   "metadata": {
    "pycharm": {
     "name": "#%%\n"
    },
    "slideshow": {
     "slide_type": "-"
    }
   },
   "outputs": [
    {
     "name": "stdout",
     "output_type": "stream",
     "text": [
      "<table>\n",
      "<tr>\n",
      "<td>\n",
      "cell 1\n",
      "</td>\n",
      "<td>\n",
      "cell 2\n",
      "</td>\n",
      "</tr>\n",
      "</broken_table>\n"
     ]
    }
   ],
   "source": [
    "class Tag:\n",
    "    def __init__(self, name):\n",
    "        self.name = name\n",
    "    def __enter__(self):\n",
    "        print('<{}>'.format(self.name))\n",
    "        return self\n",
    "    \n",
    "    def __exit__(self, *args):\n",
    "        print('</{}>'.format(self.name))\n",
    "        \n",
    "    def update(self, new_name):\n",
    "        self.name = new_name\n",
    "\n",
    "        \n",
    "with Tag('table') as table:\n",
    "    table.update(\"broken_table\")\n",
    "    with Tag('tr'):\n",
    "        with Tag('td'):\n",
    "            print('cell 1')\n",
    "        with Tag('td'):\n",
    "            print('cell 2')"
   ]
  },
  {
   "cell_type": "markdown",
   "metadata": {
    "pycharm": {
     "name": "#%% md\n"
    },
    "slideshow": {
     "slide_type": "slide"
    }
   },
   "source": [
    "`contextlib.contextmanager` — удобный способ создавать менеджеры контекста"
   ]
  },
  {
   "cell_type": "code",
   "execution_count": 79,
   "metadata": {
    "pycharm": {
     "name": "#%%\n"
    }
   },
   "outputs": [
    {
     "name": "stdout",
     "output_type": "stream",
     "text": [
      "before\n",
      "got 42\n",
      "after\n",
      "before\n"
     ]
    },
    {
     "ename": "RuntimeError",
     "evalue": "Oops",
     "output_type": "error",
     "traceback": [
      "\u001b[0;31m---------------------------------------------------------------------------\u001b[0m",
      "\u001b[0;31mRuntimeError\u001b[0m                              Traceback (most recent call last)",
      "Cell \u001b[0;32mIn[79], line 13\u001b[0m\n\u001b[1;32m     10\u001b[0m     \u001b[38;5;28mprint\u001b[39m(\u001b[38;5;124mf\u001b[39m\u001b[38;5;124m'\u001b[39m\u001b[38;5;124mgot \u001b[39m\u001b[38;5;132;01m{\u001b[39;00mr\u001b[38;5;132;01m}\u001b[39;00m\u001b[38;5;124m'\u001b[39m)\n\u001b[1;32m     12\u001b[0m \u001b[38;5;28;01mwith\u001b[39;00m mycm() \u001b[38;5;28;01mas\u001b[39;00m r:\n\u001b[0;32m---> 13\u001b[0m     \u001b[38;5;28;01mraise\u001b[39;00m \u001b[38;5;167;01mRuntimeError\u001b[39;00m(\u001b[38;5;124m'\u001b[39m\u001b[38;5;124mOops\u001b[39m\u001b[38;5;124m'\u001b[39m)\n\u001b[1;32m     14\u001b[0m \u001b[38;5;66;03m# 'after' is not printed!\u001b[39;00m\n",
      "\u001b[0;31mRuntimeError\u001b[0m: Oops"
     ]
    }
   ],
   "source": [
    "from contextlib import contextmanager\n",
    "\n",
    "@contextmanager\n",
    "def mycm():\n",
    "    print('before')\n",
    "    yield 42  # yep, it is a generator\n",
    "    print('after')\n",
    "    \n",
    "with mycm() as r:\n",
    "    print(f'got {r}')\n",
    "    \n",
    "with mycm() as r:\n",
    "    raise RuntimeError('Oops')\n",
    "# 'after' is not printed!"
   ]
  },
  {
   "cell_type": "markdown",
   "metadata": {
    "pycharm": {
     "name": "#%% md\n"
    },
    "slideshow": {
     "slide_type": "slide"
    }
   },
   "source": [
    "Но работать с `contextlib.contextmanager` надо аккуратно"
   ]
  },
  {
   "cell_type": "code",
   "execution_count": 85,
   "metadata": {
    "pycharm": {
     "name": "#%%\n"
    },
    "slideshow": {
     "slide_type": "-"
    }
   },
   "outputs": [
    {
     "name": "stdout",
     "output_type": "stream",
     "text": [
      "before\n",
      "<class 'ValueError'> kek\n",
      "after\n"
     ]
    },
    {
     "ename": "RuntimeError",
     "evalue": "Oops",
     "output_type": "error",
     "traceback": [
      "\u001b[0;31m---------------------------------------------------------------------------\u001b[0m",
      "\u001b[0;31mRuntimeError\u001b[0m                              Traceback (most recent call last)",
      "Cell \u001b[0;32mIn[85], line 13\u001b[0m\n\u001b[1;32m     11\u001b[0m \u001b[38;5;28;01mwith\u001b[39;00m mycm() \u001b[38;5;28;01mas\u001b[39;00m r:\n\u001b[1;32m     12\u001b[0m     \u001b[38;5;28mprint\u001b[39m(\u001b[38;5;28mtype\u001b[39m(r), r)\n\u001b[0;32m---> 13\u001b[0m     \u001b[38;5;28;01mraise\u001b[39;00m \u001b[38;5;167;01mRuntimeError\u001b[39;00m(\u001b[38;5;124m'\u001b[39m\u001b[38;5;124mOops\u001b[39m\u001b[38;5;124m'\u001b[39m)\n",
      "\u001b[0;31mRuntimeError\u001b[0m: Oops"
     ]
    }
   ],
   "source": [
    "from contextlib import contextmanager\n",
    "\n",
    "@contextmanager\n",
    "def mycm():\n",
    "    print('before')\n",
    "    try:\n",
    "        yield ValueError(\"kek\")\n",
    "    finally:\n",
    "        print('after')\n",
    "\n",
    "with mycm() as r:\n",
    "    print(type(r), r)\n",
    "    raise RuntimeError('Oops')"
   ]
  },
  {
   "cell_type": "markdown",
   "metadata": {
    "pycharm": {
     "name": "#%% md\n"
    },
    "slideshow": {
     "slide_type": "slide"
    }
   },
   "source": [
    "В модуле `contextlib` есть и другие полезные штуки:\n",
    "- `contextlib.ContextDecorator` — базовый класс для менеджеров контекста, их потом можно будет использовать как декораторы для функций\n",
    "- `contextlib.ExitStack` — позволяет использовать неизвестное заранее количество \"ресурсов\", динамически управлять менеджерами контекста\n",
    "- См. документацию"
   ]
  }
 ],
 "metadata": {
  "celltoolbar": "Slideshow",
  "kernelspec": {
   "display_name": "Python 3 (ipykernel)",
   "language": "python",
   "name": "python3"
  },
  "language_info": {
   "codemirror_mode": {
    "name": "ipython",
    "version": 3
   },
   "file_extension": ".py",
   "mimetype": "text/x-python",
   "name": "python",
   "nbconvert_exporter": "python",
   "pygments_lexer": "ipython3",
   "version": "3.11.5"
  },
  "rise": {
   "enable_chalkboard": true,
   "footer": "<p style=\"margin: 5px; color: #a0a0a0\">YSDA Python Course</p>",
   "scroll": true,
   "start_slideshow_at": "selected",
   "theme": "serif",
   "transition": "none"
  }
 },
 "nbformat": 4,
 "nbformat_minor": 2
}
